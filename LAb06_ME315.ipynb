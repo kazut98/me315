{
  "nbformat": 4,
  "nbformat_minor": 0,
  "metadata": {
    "colab": {
      "provenance": [],
      "authorship_tag": "ABX9TyPp6ipj7GKKUQKxHJUKEz3t",
      "include_colab_link": true
    },
    "kernelspec": {
      "name": "ir",
      "display_name": "R"
    },
    "language_info": {
      "name": "R"
    }
  },
  "cells": [
    {
      "cell_type": "markdown",
      "metadata": {
        "id": "view-in-github",
        "colab_type": "text"
      },
      "source": [
        "<a href=\"https://colab.research.google.com/github/kazut98/me315/blob/main/LAb06_ME315.ipynb\" target=\"_parent\"><img src=\"https://colab.research.google.com/assets/colab-badge.svg\" alt=\"Open In Colab\"/></a>"
      ]
    },
    {
      "cell_type": "code",
      "source": [
        "## Instalação r2u\n",
        "\n",
        "shell_call <- function(command, ...) {\n",
        "  result <- system(command, intern = TRUE, ...)\n",
        "  cat(paste0(result, collapse = \"\\n\"))\n",
        "}\n",
        "\n",
        "download.file(\"https://github.com/eddelbuettel/r2u/raw/master/inst/scripts/add_cranapt_jammy.sh\",\n",
        "              \"add_cranapt_jammy.sh\")\n",
        "Sys.chmod(\"add_cranapt_jammy.sh\", \"0755\")\n",
        "shell_call(\"./add_cranapt_jammy.sh\")\n",
        "bspm::enable()\n",
        "options(bspm.version.check=FALSE)\n",
        "shell_call(\"rm add_cranapt_jammy.sh\")\n",
        "\n",
        "## Preparando acesso ao Google Drive\n",
        "loadPackages = function(pkgs){\n",
        "  myrequire = function(...){\n",
        "    suppressWarnings(suppressMessages(suppressPackageStartupMessages(require(...))))\n",
        "  }\n",
        "  ok = sapply(pkgs, require, character.only=TRUE, quietly=TRUE)\n",
        "  if (!all(ok)){\n",
        "    message(\"There are missing packages: \", paste(pkgs[!ok], collapse=\", \"))\n",
        "    install.packages(pkgs[!ok])\n",
        "    loadPackages(pkgs[!ok])\n",
        "  }\n",
        "}\n",
        "\n",
        "loadPackages(c(\"googledrive\", \"httpuv\", \"R.utils\", \"httr\"))\n",
        "\n",
        "my_check = function() TRUE\n",
        "reassignInPackage(\"is_interactive\", pkgName=\"httr\", my_check)\n",
        "options(rlang_interactive=TRUE)"
      ],
      "metadata": {
        "colab": {
          "base_uri": "https://localhost:8080/"
        },
        "id": "D9k-GfIz-Qnj",
        "outputId": "6fce54aa-0aa3-46a0-b74a-55d187abd361"
      },
      "execution_count": 2,
      "outputs": [
        {
          "output_type": "stream",
          "name": "stdout",
          "text": [
            "18 packages can be upgraded. Run 'apt list --upgradable' to see them.\n",
            "Reading package lists...\n",
            "Building dependency tree...\n",
            "Reading state information...\n",
            "wget is already the newest version (1.21.2-2ubuntu1).\n",
            "ca-certificates is already the newest version (20230311ubuntu0.22.04.1).\n",
            "gnupg is already the newest version (2.2.27-3ubuntu2.1).\n",
            "gnupg set to manually installed.\n",
            "0 upgraded, 0 newly installed, 0 to remove and 18 not upgraded.\n",
            "-----BEGIN PGP PUBLIC KEY BLOCK-----\n",
            "\n",
            "mQINBFM+sY8BEADA70T+U0/2WNjOTLvytuXLvBC4vgA8hYvOaBS1cL3d8lu4mwr4\n",
            "W84/6p4v/mXle/0eIO2D2g+XfK72ZHZxpS+bb7yPxrkCDLGxwUd/khtTJHSbbKFo\n",
            "J73AsABflMe+8qv+E74+QTiXErTCNioFRz18sa0EvOnEAiokau6TZVYY2z9YjBNI\n",
            "yEjTi+z+g8c1RL6VmrFEpTicTpafOLbkRyw0VKnAKG7Ytp3Ksc1G9/IAoKw3Q9La\n",
            "0DJb5iX6hyB7+PNid6htK4LtPKZ2dNSrnRvNNkjj5BgcM2AT1hmxbzHNzIVmPoKA\n",
            "CQFrkdjog3/PcyjdtZG7cfoSDXrbIAZeAa2ngLv9C/DJatVDd6maPOe66gLo7+As\n",
            "ErMvO9vtiouqLdurW+Lhx0jFW9Ca3g1taLfbSDyS3X1mOGWcisbQvBqkIuoDQTeS\n",
            "V4Z04wrwTZ1HtweKG/s5fmPtZNGWVI5YNRLIwdmbGzFTMPu2XTAOd+xSK2H+46Kh\n",
            "Sh4kFeP6pBh5No4ET1MzIuDAHwl0J+mbWKPH4tIosYkcVmvEiNY5Ooq8v0I1svc3\n",
            "ZYndlXGnqlrICj6ftEf4Mxvl8ZWLD6svNCWF/r/a7CecPgVkcHwY+zBEany/Ndfk\n",
            "kA17mg5tEfksIXO/j71EdpKHdUKfysqOKgdkw0I6UGCScJlULy+jc2loTQARAQAB\n",
            "tCJEaXJrIEVkZGVsYnVldHRlbCA8ZWRkQGRlYmlhbi5vcmc+iEYEEBECAAYFAlM+\n",
            "tfoACgkQCZSR95Gw07dziACdEOBDnlXZm4Zjce4YeEKJD3e4SPsAn2SjogZ7NYAT\n",
            "zMjxcaLc7pBZ3ht+iEYEEBECAAYFAlQHRekACgkQFShl+2J8z5W7xQCgnggW4HDA\n",
            "2okBJug4eGNmrQ1LGccAnRTzYB/eEQGs3QxcMxJuSWJtkHAiiEYEEBEIAAYFAlNA\n",
            "KMIACgkQ2wQKE6PXubwz+QCfT1ef1nUaBWAC+x1y2ln4X/2R1T8AoMt4stwpK+C1\n",
            "sc/yy6WM0Asid+G7iEYEEBEIAAYFAlNcPjwACgkQebASZpNwHu/xRQCfQsq8U23p\n",
            "gVct+Au+p/VkqHMG618AnilNqrxGrA+QcsmKLenpz2qmhUuAiEYEEBEIAAYFAlSY\n",
            "jREACgkQMFbw70wtPvrQNACffFe0z0aDJLuSVwmvdSDjpuTqzkkAnR97tE15odhz\n",
            "BSFW8v+RlOYzRvH5iEYEEBEIAAYFAlSwNn8ACgkQS/29pmBF+x71/wCfTd74iN5X\n",
            "klyQDpgFhZSu3H9UiQwAnikNt8RuzOyEM2shM+TT9VBelCAaiQIcBBABAgAGBQJU\n",
            "C+BkAAoJEJzRfVgHwHE6PMwP/i+0r2zo2U5yDobYISwH+qyTlDOozZUpcLbAzmgd\n",
            "T9z4DB/LRfjvuM8kqxRGt4i1HtmWzO2mOznW/fay4V+zjKduENqOZ1LldJRwwcyB\n",
            "ohUD1d7hUmnS48J8+1UFqJ4Bwn5vQrSlNY0BrDaaOc3gokU6SaI6yodj5f6zjEWK\n",
            "lCiDSggCxFxV2FYCaZEt1/HRYV38K2UDjH9kPLa9or8/YpL+kHxOz+BKqaHEcP2O\n",
            "eRKn1216Q+WHBCIWE6aYnAT79nbwDR8AiRe5wAyuq3KzMcaqqrXDJdkO5elAGFSg\n",
            "1mB1qeIcS04esh9AUYXXkBgrQeZQ3YTzvDqRkXceLU2u/8RyUhNuR0HisY9lal12\n",
            "9sjeoiu9VYQE7rn4Pfgl/vcJp+Lo0i/fwIWmTO94cG8ait/5QLFroC1B6wjaCBwZ\n",
            "ytGnmAdJENQeQv/iZyCmygqCLw0Suqe2yh+XdM6AzEd9pZBH6gxMpz+8G0KX8F+e\n",
            "k9vkDzYFDnPUxrSRMkpXGAjSIG+mw/aHgVw2CyWlQ3ZkKHBn8UTChNni4Ms5VgwM\n",
            "NEzg8Qon60lDLtILX7b3MK2r3Rpilv2iZykGijZFMHT1PHOjQpW3zssaS3pqMUgZ\n",
            "TyJx33fPxQTJiT9tboaZEiyUYNYIBDfNFaHFU9k0ZrrxzGXiCIrx/BXfVBnWFMUp\n",
            "frIaiQIcBBABCAAGBQJTQCk2AAoJEMn8Qbj5jGbPYdcQAIKMzds2YKl9EusEpGPw\n",
            "vlaxCPOZ2koQno2zZEKmGg+vjAxwDIIrnQ2D7RDxXa7ed/id22saQ0JCYXAQGPh8\n",
            "gfaF1D0qDk0NnVzAnQbWfTeqvaP8MPx4lI1BQFvCdQVgwnThta4adBrgTX1nID64\n",
            "x1yi/9UVQrOKpFd9Xthieexbhjul5KjDUn4tTLucQDgrrbVHs2k4KS+MmPxL9nHQ\n",
            "W3XOD7y2+Z1sutxE7vxTKfl2ADFTF7HQ2bEdgQZmRnXStmPhu1lpDi74t9k7GI21\n",
            "Qlsr9GoxYIwIZ1q3MLBrCR590Gl6t2TMp1ZH0YTFTrm1C9fKZZDVngCcw74Auath\n",
            "galOkgBeyH8Ghy2ZBnhFjh/azmu8xWE6LPOemiYaYLWAv/PVJGSrgTdtswT7AMgm\n",
            "ytF3Z1suTLxec0yc7QaKDzyIikhTxw7qAcLz2bcC3DlWilfXWnsQmXrChVfGrv/R\n",
            "JntvN26PKwEIVZXf49w5cfOjuPj0dp9t2HIIkEm9KEF3xPbmeyWidJktMrXiDskg\n",
            "GNbu9HZtHyO2vAy3tQGlG/4/1++kkMwowDXC27zY1rMjCYtzVog7D4KaYx/IwT3H\n",
            "gj6ANDOiiNjnc6i2E91e312TeFyZdj68+8EXp3G0wlQm1WU8bddWm2m5Zbb3+s/b\n",
            "WZeT8QtspPsL6DLbW1P+YdXYiQIcBBABCAAGBQJTXD1cAAoJEFipIs3bXbCObugP\n",
            "/3lDWzkfQeDrmHUTO1TVkDxh7Exw54ob7Yn+n/Q/btkaDzuMVWglFCZBKaI3akXw\n",
            "ROmxTp2Re9Xir4brN4Izqfl6dfwP5fmslZkwSboKShHaHmHCf9Hn2C/5dY0rysqG\n",
            "MfczzaX1tWsGgY57hxF0Xik1ZQaeOEfgQ3Jd8XshznIUwA2Kk1tkZdGXrDG+wIbE\n",
            "L5S9ns98rzggg5KCKGXXWXCPEP5wZIoy+Trf/nO2eazW2i49xhdybH0cp4ipA7QA\n",
            "JKCekYxK3nY+P72E/joBFSD2bAes+pFwWsp03dh74FErzQ4EqO0GIXdFkfE/ZPYz\n",
            "L671lLHfXO0PHVhIqMXE2kq1mSgvPSF24w1rYmmC9gsFlH11GsilcJn9UjCzGuWr\n",
            "Ow0ZCUP6U1c87XZPdKt3QRTw/3yyjndXDbE2iQ3UvyJsioWv3cP+ET6HVIkoMsui\n",
            "XnuOpYqHOI8LJjoJSQiYAY0TxrgGrahHzuKXMsSnTEAt49LWilv5NGiXcvrbcqNu\n",
            "fDKnN2QS63ZuOnmi5otB4QsAx74Efy/76giYwdTLtP3AWTniiqbXdHIj9Cvxnhjp\n",
            "J5dFA+MMbNGM7jw9j/zep7JE7fPDRdlAhUn/nmtdaC3ze03tBcWD+9ez5W3i3hPL\n",
            "EltTvllfX9PS84WFmAhhWcmDYXd1wK4FxPbZfbRhm4MciQIcBBABCAAGBQJUlJjw\n",
            "AAoJEApQQvSXUQMcw+4P/jKffAptsSxH2rB6G7hROZDJFowGq5YcpONyC3/CQn2w\n",
            "HCqjTk9YaL0AXycvayqUm6fEjfNg+9org8XnhRyzY/+C67SHiDDjOLGrHOwxMdB+\n",
            "0yxZT7WkIBNO/qWzkpIGahho96TKKck1k9eHr7Xd0H6roQ59fXhyor5QRhVZNKYZ\n",
            "G7DGd4wNicWPiujyNhAii7LVaMta7+nIVvQwhS0sJROYZigPCSJKtNxPVMg8bDm2\n",
            "53JXCeRKWjjrtGlRfbCyheBqf33sANbzUZ6urxYvhGtusev+XUfT9qtCm/ZkcbCh\n",
            "0H92oe6S3RrZePmzwTOxTmKFXu6N798aee8H5orCwHpQ54knSu2yesAfBN78JKsy\n",
            "UdncSNg2x/+1T6Ya/hnhgnO9hJZJdK2wr+5IqWTLq+BIXAchhPUnszxzIEKn5Q3t\n",
            "i9DisflEELGDXQ/SNoWPIaG1cqG4m+98ndaNPqH934AdbXzcX8Rq6qE1zC5rgKcS\n",
            "Khzve0vVLkRrkbi9e/1dgwuORCSUeGAgScTuBWGeEoK3MLZiuZ+gM3D0jrCgbeYs\n",
            "aAKM8ouHsgIifwvxOENy8DqXkxbpwvq9zvvLF+cNMnVvmGWqwxMBXo0Le3CMQhE3\n",
            "hmpayPEDa0t8UsnA8qGXzfK0GCQX/3lAOWkZ4A3A5kRGLAyiiOj9gpwfrlFpRLDl\n",
            "iQIcBBABCAAGBQJUsDXwAAoJEL+ij4ufyK5zp6AQALSRMgYN8glULuXpUnnjOkrj\n",
            "7By5eAzixzemkbbfWjHg4YteBX8EZviaJi7dTu71rDEFWUiyux87diAY6KwUt9SS\n",
            "axQhQ4fOeAyP/ZfFforV9ZeD/hcpzVZc1/A93THJ/BWLG08bgh9sXanJLAQm6YU0\n",
            "hT4JgGv3y8yso9jHhlFFNkKK2lij/uea1Fa061XueTry8vn7g5oblm9v60s/zG+v\n",
            "jgksRbojMKYYF0j/dYF8gO32ZBDAnCSgWJb8HPbLwbcJDfAmT3wKuNXbCf+76wr/\n",
            "0LDZHXxJU5d7xhpbjO4W3FeGqHKwobk1Bcm13W6MT46femmabk9KrlBq2yNVdpyn\n",
            "IB8lmGSFcJodEulZM8YCHuSGxzy9wcQ+ScFtLRMxWbmqQhB0vj1UF1BQ0SxvkMd/\n",
            "IcyWATX4OERNdL0YvvSs/zAywIf6ku7dbMwWkXHYr0rwbibWGWBZNGFFMZzg49+B\n",
            "wFBKELxFAWgI1z37iLfwlcqNDfUVw2sb/r+6uVzPiWvhuRtZOIShatZfgwXBTSua\n",
            "l7fgRwVoIeLCHEEBSP5GX4zN4Ips3DN+tgOaxUYtXR+NVnb7tScgcMZFZfI2B/WI\n",
            "TfOw8LAvsV6hGzRh4xaWYuX0Q9OMd4EMm5GYzDELZ3zOyisv/SFHgxd4swJDHNbn\n",
            "BNU2Y2/TJRsMYXtBXJVPiQIzBBABCAAdFiEEfWrbdQ+RCFWJSEvmd8DHXntlCAgF\n",
            "AlitnkoACgkQd8DHXntlCAiwIA//TR5mF2eS7jNLnUpWAJaPfoOB+GKcIULo1czW\n",
            "MSRogTgB2uK/pvmg30KuP097P0pPRTRm9RMYYzfXwPj/DmU1qNonLc4Sduf8BKBX\n",
            "APTrszqNRVZma6ux01wtS9TQvSB4QfJ6jn+R2NrYXjGkOFrOh+DAeutS7xpW0rrN\n",
            "bJL4jYjUV1cDqeED/2Ur3miHxkUwFpYT9SkYm3uBdztqQKzdtYlZcUgN1qFu8zhH\n",
            "zE48cz6RGvFU3bQU6cvn6X0GG6oFR+i7In4BrR1xwyK22ZDJ5Ovf8WDGeR435SvH\n",
            "821rIocLN8Wmg64KjWwdW6p1QsI8NXz4a2oI2yk1q+bzX5xoEXLv6BS15yin+c7h\n",
            "BW0Ho4ORI7ugwBoLJJSx9wPyT5QQbo5IhapIwUsHAN13Ab+IokWNC5kQZYdde8GZ\n",
            "ksERDXG9TZdSEYNAxLcyU06bzQ+Flc0HcHB10kAwfIEcfuh/B29324dqSLaOWBTv\n",
            "LUgc1DDGU6dk6pwACJoQKYBLsDmrp4B3iq76hJL1NR6Mwg8lK5ius6ORjOl8neh9\n",
            "7e0KuSeL0QR1Gnq1FB80agv/KAB7k5VYVOL2oDtlwEKNHOU11A9S+c5Q78CsXWs2\n",
            "ECV5CGc2m+Aem0oJGXnq6ewejANHUXq2CeImFwQITjZ2dbykTf73Z1ZV/EP8yiEE\n",
            "5284/tOJAjsEEwECACUCGwMGCwkIBwMCBhUIAgkKCwQWAgMBAh4BAheABQJTPrNW\n",
            "AhkBAAoJEKFIn+KrmaIa0N8QAK3dhqGAn164EHI9c9XPlcSMePHqrLibIXQSN9Cp\n",
            "QCHGmeIoBBtpUrJlxKKvE+kdIYtysduMGT8dJlBjE1+LgXbF0jUrD7aRaDGAo2zX\n",
            "gnDiJmjaKrIcHuIm864O9iQcAeSz2tP9RlLoLQScgBCNJ+CaMXwlZwlLM3T4QNPt\n",
            "F7zvAiBinMwDV5iXxs9aVn4cE3+cs6lZ9XckYCHwDD1454sPqeK8nztnj0Z1exS6\n",
            "hnYzNBcjYcdLvTnyM4jM73BAl5etU3qwXtnqQ53BcIF4yNJygjZubIZQB8ZU7b4e\n",
            "NWZ4BrPWnxKagosKSrABcD8CBhoL9a4CACqmyF9Clc/rdTv0zJNk9Wr/L9qpcTP1\n",
            "bZBUTfY3zO5V/zWsIQhQxx8mLUs7yKj8rO1sg7crDxqXnOCSa6IB88X+EuU99ot3\n",
            "1C7WwknrR3mtUTW/8Vimh7eXEXU5e+91ahBFbq2mFKcrzfRTbDFqTPeCaXtNHFRq\n",
            "Z4ktnJTRN6FVMP/RJfzRORcVBfKPT2lb1fmgAXeSc0su4N61tIl+4jbs1/7bCHwz\n",
            "zWscEKTsThKGY8WqY+DfzY6eyny0SPD/nPQd2bXwTiTXFeuF0jKeN/LN2sG8tl10\n",
            "Z+6qnwHYx/65MpHN2SVrYnMA3S3iFhfc8IYOIjU4ZktdJOh3JIrHGxMEE5BC94nA\n",
            "1gKeiQI4BBMBAgAiBQJTPrGPAhsDBgsJCAcDAgYVCAIJCgsEFgIDAQIeAQIXgAAK\n",
            "CRChSJ/iq5miGlpPD/9+AUE+hDYD1dfL9a5Iz4yNGjBM+LUCbx4zSbU9Xa4RcXPL\n",
            "5PoYXmzWV8jx5Z0IMMFt+nYOeSHW/52BeD2U+W7otie1J8YV+7AUmjXtopzKsWWB\n",
            "A/BTZ33AVdw3jmmxIy3+4RrK54DDp3FMmadeshUrOmgN0mVAuXE5bQbA9lQOx+QP\n",
            "ImmoRH4HCL+Eg1qVbeEXWK2fTPNZUwogPd5gUc6L+BDT00PibL+L4z5K5cmnBRVP\n",
            "/gIrmBYWkfkYIICym+cSZ+nVfmY2OUL/VyuwIBGBnx58mbDxisEl2i5hmRGevTrR\n",
            "/M5xzjqxucrKrVv6drQCHkYy/X0bSScShv2M2Jbb5puEZedkZaogUeEozsdmh3pO\n",
            "4WxCw7BrXmP7Fug4dogb8djvmLqNcJ0F47FCNOeYb7hKi8NbWcQwMdCEUb6212J4\n",
            "rjQWNDC8nf0iU32K2F/DXrlJeSMzCXeWhz8XoyqbBbdFC3VhyDiXybZEceYKdmYH\n",
            "xBbEpKeIeeLPsB/LOj5EJJEz+dJXB7w8jeFjqTCQa65PNU9AF3+P0yp6sqki8rBv\n",
            "6WX68UvUuSFOarPYxG1vpaEnMiTVdJ9J1e78eXz9hEHKTigFJ4CAMQ8qgp2RTesq\n",
            "p80tBjmDqAcL9yovtVC2iXVC9zJLbI0IX6OHa0uDIpjWJ2YMhty018gqm0ezeokC\n",
            "MwQQAQgAHRYhBAu+7vBk6Uq+hDJYtHVBz6r8NerPBQJZ4DXKAAoJEHVBz6r8NerP\n",
            "34gP/iLqLDAzMRGGFQ4UDf17eRF3WsYcnSttwv9Pn7xQ3fWrhrKhGGGTNfaKQT4w\n",
            "N3DTAojKlqHPdBkamsGbNWYlHsY3b/3Z/NRc+ZnRxVyFwHC9s7Amitk+FWohbFR3\n",
            "goqQazZGIootMGxZYaP7806ePdTCmCmTCriP9KMxvA8WlLISWUYl/JILkWgdaPCP\n",
            "ZHXWYAI8zNWegoM6eKcu3WFSDxFNBQr18djU9z2X92hjwVsgJgO4V16MLMbqCs1x\n",
            "zLQELxau5UxRPSdVgwhtfuNuZX1z7ME4qhoaHMESMPjoWWYAc8pJaQ7nbVDq37G8\n",
            "aYuXLZ0ZWJ/cyX06Hic7e7n6qtp5uZvdHpfOHKAY+TnDlY5o0YSY0eg7vljF+s5s\n",
            "4vfdulcs3slze8M8hdrZIuaMqxYr3QFZf0qPHmERRsf0nwziEfGYesogkd2k3tqJ\n",
            "CNK7yMzbozIlRXzR1gutBTTibbRhf+cFMv4a6m/mIRG34q3gxm9hTHxzQ/PF/6Vy\n",
            "2nktsTphZhMUczD4q8B2Fix5pwtYkJ317JvifJWOmR349LdhV75PCkLgf1ZxapZ0\n",
            "rPFRLCaS1F3dxATvIE4j/dp29I2Fi2SCdezoxezyo1tFNH+azIrn3ghpt7UHpYU5\n",
            "OfInicz2uhFefpr6WXBQh0v7pTrhe0+PmSbvNzHeA87I/9xKtClEaXJrIEVkZGVs\n",
            "YnVldHRlbCA8ZGlya0BlZGRlbGJ1ZXR0ZWwuY29tPohGBBARAgAGBQJTPrX6AAoJ\n",
            "EAmUkfeRsNO3nqEAniiIKQu/J1AsO0YUxmgkheGB8FZ6AJ94wbyyGR8zIeUbd9Yx\n",
            "nKH+33r2eYhGBBARAgAGBQJUB0XpAAoJEBUoZftifM+Vz6YAoNTFx0NutNCCWlwY\n",
            "kpryxQYZMaz6AJ4qoAqF2aR/rYAZDX9XbfS1MbWzbIhGBBARCAAGBQJTQCjCAAoJ\n",
            "ENsEChOj17m8Xw4AoJeCs29fZJRPmdYMfyo2QwH05CsGAJ9P/Z4uonpZmfYSHE6Y\n",
            "/Fz/TmABM4hGBBARCAAGBQJTXD48AAoJEHmwEmaTcB7v0xIAn0vQ6kUbO9I7yRL4\n",
            "HyocEx+Ys8oIAKCA/3IZAbR6O+7hopFaqTa7/ehehohGBBARCAAGBQJUmI0RAAoJ\n",
            "EDBW8O9MLT76PikAoJIH+B1cXiIQ3rB1IMiSlvrilLboAKCRMXvo4kMmhIz6TL+8\n",
            "ks9AHD8a74hGBBARCAAGBQJUsDZ/AAoJEEv9vaZgRfseotkAn0pXDU9vXb1JLY82\n",
            "oTdI6MMICzXAAJ0dO2AXGhmQK51zfNhRTRqCPXIDqIkCHAQQAQIABgUCVAvgZAAK\n",
            "CRCc0X1YB8BxOmoAD/0boRAyefgxAuNihPCeWoLcTAicGAySm0GNgdROAAX5OTvT\n",
            "Ii3ATW4enqPRrLK+FARI42xvWcM8ekjt10vmA8XkzgAGC3jluHICAjprvcBpONHR\n",
            "yz2Bc7/qAqFP0ErrxqVuSyoNRlAtd7iOSMnDeT6ulCAMQtVKjZ5xcEnbEYokac1I\n",
            "0O1JGWDM9eHJd77ehmGcLNOBzOztwcSZ3pyS9FvjaJRM6ngv3qZluR0BR+FxOgsY\n",
            "NbjXtv/9ER1xg8f8psAAI5BArmBbPzFaEy8sEvOD5YxFZ8dI093AgeTqvmIyqEYA\n",
            "hVx20sBOnLlOinwx5njXRNt8NpSfs3yPU2NTbxVeCY+CFFqF5VCikRYTi95GQVep\n",
            "/gbZFYIUDAKzqwIMTAQ2KoaIbtExIHnzBDGVgiu1ANcMjWouoUgZzOTwXQSFO0wk\n",
            "OvxnaIpf0pPfQ+yuR+oN3U5ma3JYFgrxF0RzqCiZxlT2jZCAcciNlU/uPwvKQ4He\n",
            "6IfLMV6YZWM2TioltwHXbKhxZRSyOLQpXK5tHRGjZUDMoGy4GITnKaUCEIf8xVR5\n",
            "V8nrt/T+CSFJSG41Uq87WQvnj9tlA7gcAwyzzGLiQ2hAAJuVEakP/C8APpheG6wo\n",
            "S/NN5tcNJkvoO3ObTriAMAuoTvcaemGnaSTZP8m4dvTYQM3D9dQTyC2J11Vu+IkC\n",
            "HAQQAQgABgUCU0ApNgAKCRDJ/EG4+Yxmz/seD/45LVeLYZV/Zv9flkDEZTUz5872\n",
            "1Z0CQROL204dbZx/hGdLpDgQolPRgfd0klO2vW48jsn1y/F3wXwgGsaSia0tGcZR\n",
            "UsiPSTdvO26ZcncUBiZ8MF/Wq4foao5rhEhFQg07O2bAcDJpGWe2MoRE4WhxWp4V\n",
            "a3BoGMNPs+tNPFyGlZqtFxtPENG/HVckKKECnjkK9y1uJDqtvCVWca6YJPrXRj3x\n",
            "tj+TqZB7rmnX4yMHjKVankou6dlR0/1/Jvk+/u7R1AoPw7qYMzEi37QjI03EAsOr\n",
            "lgKq1YIvY/Wr5L3A6Cdbm9GzIL/D34J8rD1il10qDG8oj5CIR/7IyDQigb8b8H88\n",
            "6Ow11g/pTd/3ip5A9A/7rhJfo27HrlsIynZvxLoChBXEJquAjUtCm5MEactaCFp9\n",
            "deeeWbvJK/mIcyYKvfRTGiNkpcQmjqGTOFxoPOXmLA5qYVvFKonr8yMzkPL1eP2r\n",
            "tfIV5yKeWP2P0L9RX3ljVmVMwI6JmvPj8j45x7dqjxr1TURxmCUU07boYUE8ZnoH\n",
            "mi2H4xjB5u2EX1arsCCLCkSvGeD7eoBQejhKpyy3+5gz4JO4nMKJOtHZf+LCAmvc\n",
            "FXgB84kp83D54dHb6ENdI4cGgEcYy4ffccxsnzQeP16OXrciVuoWVjl7whHodjxV\n",
            "BpAEvrFNFQN4u1tHPokCHAQQAQgABgUCU1w9XAAKCRBYqSLN212wjjhtEACDek79\n",
            "4Ek3D7YuLBHVqcuOawv46KGRRTte3RecMTX8qeSiIBOHR7BX+8P7qRlXgHXytxiV\n",
            "N5o86CIyHaekqd9xXz30FOG1c5q6MYsxXEWf/9rdhbkgvG16CQ0AN+PqpJ5b3dAG\n",
            "ItjmiDw89UdCz0a0Cl+ieXJgPUKPzrLFpXFfoBUp0oA86pKbjzfaNRW+kkYqeC1k\n",
            "tvhjtNK08jH+19WbCQl57S9RP0Mug7fsivxBNTMZDVA6/pNJawaSwX7+CQgBXsHB\n",
            "D1jbUY8UMFOEQrRzBrwlnnhV9pL9O2o0nObFFC7nwlkKpSujYO4nr05NB5W88rpY\n",
            "ENtOfvnyxn9AOr/QHOxIHzVqMZnMXMzRC088fxHF7rWJV8eYICWoOIPxNSConp04\n",
            "izswjO+5UGP8ZvHuZ7zEmx6R5RZcvwodyXRouRpahr9G9UaHT5srNSyt3d9bQwRM\n",
            "GXhQ4X8BFyHk34x1FWFh8qcE1oZEWZp4htYNCa0nLaEabxIZK1Yzcpq73i8Eq15D\n",
            "FaH7mGlc1UXsFhgrBwnQUcr5NG5q8NwgA5Y7DKKM1YEbquMB78jeYmHeo3pMpZNA\n",
            "OwiWWqD9JfVycoWS0M3Ak27w5nuBNNUbLf8sMkggVcEkyNuXWEYb3yBuBMz/oUWL\n",
            "58jJRDbrRxwJsLMEbQVDt+oJbSZf9os7FWJfJ4kCHAQQAQgABgUCVJSY8AAKCRAK\n",
            "UEL0l1EDHOsvD/4not6qVWOfeg2jzQw8qM9jQDjre60rs/JkuIztcMAG/TvLgKa1\n",
            "mL6Siidwzdt5wLDYfT56whkH1s2t8VGBx60zgQd7oqsyg+kf1I0u54Q5eHjFT30U\n",
            "BtDmN0sklitdsFASlhx979VVV5IOeT/d0PnqxnLj++dYomjeD3ie+SbydXzN/u8y\n",
            "TCzM0pCEXyO1QBZXwG7XDtmbmVCxMOhisCeGPL/dwGyF3m6LqNxDmacrXLfkZSNO\n",
            "EgsFBqJX/R8dNdICNHQAbicrm6/RTrypC+KmZtvoMT+pXhoKSg2tnTkOTeLpw9bE\n",
            "dSNi2yrz9PZ6R6YdBVI/2n0M9eqEzXqIy8/7en+rp82/NlCCod54ehDoZRyJrzIz\n",
            "4AhBp2DgbMmu9RYY44yZEx6w0FBLJY03ro39QJYtyE7AawYQwA9IHVakhTtr6CdA\n",
            "vqKHSLI24IazmpPySuPpaomqeGIX0Xw6FTKEUMv9ZV+8w1LPcURyUumsyUezw6JN\n",
            "8V/0CRVXUdfY5KpMTQLL3JeMVgYKxR3vA2ReJ8yMBe7Vfd/Fn2N2mB06eo8vCZJu\n",
            "/Mb5LGe36cYZJ9z1jzKydanyFqWhBRSCVV5sa9HmeVQEJTds5jW8uDg4YLDiBt5F\n",
            "M6Six7KBzJBQ5u4bu67NquHSud09jFXlY2yWT0PebqpuYwB1VlwA7sdB+4kCHAQQ\n",
            "AQgABgUCVLA18AAKCRC/oo+Ln8iuc9dXEADK3B03hrv1+MMscnKIl7iXLc4rsbO6\n",
            "R7Vc7ivyCG4R+DVRe/kfaKQfyAey9xqtTxYJ9ysBQ8egNfvgoLVd9a0y5v1q426S\n",
            "vvdRfCAFsNLZoeuWkMvl8FavlFz/aGpPNVHfnL8UmqVHax4WMaOHdiOO2k/HkMgf\n",
            "rHhj6thmQJLxpTRIwDGO8oigh9g1kgQNq01Olb8A9TY8HUVJXvvHg9E1NwRFzxd4\n",
            "zsinIR4Hjh7s4qxWCwdKKLKCDBp1mCu5gypR+t71LDAZh0rDP9DA2BhoUUHGyJcN\n",
            "cZGrw4+gjMmXd6Wf6LTuQ3GvXaV9ASbaJKPmYBF2xjwpmNabXd9YTRzCNOJCgRWh\n",
            "M4Yi+H4gQkh0DV3nFXNZ1E1sawXI29lyEu6vW20y4Lz4mkuMP5maAukK/hrpC9iP\n",
            "GkZrpsSwblS7U+/yB6YxR2neISboAenPeRUShHc3hVhU0kjYfio0omFZ8GlrxNQl\n",
            "Z3G0qGOM7JxTCFDxHxjMvP17sR05i09b61MOqzPk3ob8bxGiHz4xc0mnyY4UFgQ8\n",
            "jWecPsX4FfwtuTTAY9BJDAkLAkZPNinRzz6pUOfiWg6soxJke/RfQma3Xd80o1P9\n",
            "FdhHUd0HWbLUsYXEtg6ZS5seVzw8Gkg1ZAt2pqZCjKq26SA/bCamty19pZ+Fd/2Z\n",
            "P79REnHHP+iRQYkCMwQQAQgAHRYhBH1q23UPkQhViUhL5nfAx157ZQgIBQJYrZ5N\n",
            "AAoJEHfAx157ZQgIkxMP/iHT7ZAwXuF+l6Mej8NBxwEoZO0U/rjRDEswDKVr1KbZ\n",
            "loKmniz89wNVEfF5maOFOT7aJrJWURW1SD4Q7kJt5NAzih8E6iE8fSCMxKeOa9/r\n",
            "ZOfZauro4ew1p1d4Wv4l25FaEHQqmfWNJlyc9QFT3CIpBwDv4cfnGQzoivMmXE+l\n",
            "QJx8z6SaG7Wjib70GcvonPfCSaleOUI02dXbV33wM46lYGL9WsEgecITYvgqGwec\n",
            "aLIXQQPKIa9icN4bwZYLH5jh46+8FDfz5sXH4huKouyxXoAE8h9DJHB5zrXKRpI0\n",
            "dKr7zmVV1Ph+6XhbxzqZAltEDzdi6luj+nugq8tGhluYi9QqWJookWt30C9NZGW6\n",
            "d/IyEHqJaQG0RCHCBLkyUCWgRbmz019aPlgcdLqOwEFKKgQO8qlyzFMOU/GlgxTs\n",
            "rFSEMAJLBvdELIW/w25nLVY6FHTpnB/Smityc72PXATO3ZkAchgDi3hFwVB86rVe\n",
            "kCVxOEdolD3ujtl2ZC9Hi9/DSwrjdl+eokddwsD5QuFk2jhNYBG5c3a3x3diMINF\n",
            "E9f0hNgtMl1OlSvrFgvBRsfqQAnh3nMhK2yQgfhO0Y5tuwVTIrlCLzE6i7nlrUF8\n",
            "QiJc5iK7t1BaNn0tJ00ik5piiAnWuyjxkTJNh/wLoHZRohpzIceLKJ1i3kZFvTt7\n",
            "iQI4BBMBAgAiBQJTPrL9AhsDBgsJCAcDAgYVCAIJCgsEFgIDAQIeAQIXgAAKCRCh\n",
            "SJ/iq5miGjoWD/9R4isVKrZ6k7XIAgRNUJofiZdg2x1NwaJ5xCcdvbh45IqZAnQg\n",
            "s+v4y4wZ04yEAaOQwUQoKw8Y91c8zAOD5aA1qB+mjv6CMrh8IzdGeuKRporMKY+s\n",
            "XBMnTDCNi/Kmlv+ux/bu7qavmXZCPswziPhJT7vuJY27ymnAXL6ZVAD1hUvaGU8x\n",
            "Zx2Y0bfd4IvNGkHxBGe26/ngns5KyRBXBeQmdxZqBvsu6fxafOQzl4p1ni9xMXg/\n",
            "p5MUJqylmFvzXaekrB7Dnr2fTGQh8xIYfaorDzP1GYWBp7pw70NWFKpt+TGaUg/3\n",
            "9rd5Z//pKFnx/VuaGDe5gaJyP7citptv73JHsocIZGipat/ouLp1trdORYHWn+/L\n",
            "ZTGl/g5IqafNAkUuL7XxrievmhyOfpi+UE6NBdIoJ6zATKwEd0x3hKBQjZJ0r9nL\n",
            "YL3tqKymTZa2Ohe1dIxoan5E77SnDKWWAlz0NjzpvOrCWB1uSBQfAp9ZY5HPAUhx\n",
            "48IvbfYYlR6KWckqhqg6C9lBXS3DaKhvIal1y5SQLEdJGK57/sXPMmdulIlNnpP1\n",
            "5EP/Yea3OQ+J/469MEpTD8oMyrVCMQ3tlimxWCyeFMyDVeDt6TjBOIeZ7Aobtkqg\n",
            "rDUbmL4z1WJxGbjsD2Gv0chBohvSoe+MnWnN+8biR3tyT3VosYNXVkjULYkCMwQQ\n",
            "AQgAHRYhBAu+7vBk6Uq+hDJYtHVBz6r8NerPBQJZ4DXKAAoJEHVBz6r8NerPtfsQ\n",
            "AJRE5F2wop4UM9JQIEJu77tiVePm8k59n8N1p0FKplmqraZDy4Rb4IKLsLxkQEVt\n",
            "58SgjmUkFnBjwpVDXiKw3ofgwAqaRWeotXVhrfOl746UbAeJ27hALxQqvidcM5bP\n",
            "UAit3BVi1PkpWOGSK+3r2yIRFzb5Os/ac0LQW+RHB3YCHR7z4qDsr8zeRPEoXKbM\n",
            "9xykKCXpQjq5RFq6sVYSufIqeWEW99h3VzTmLZwUPs1Mx+52+upernVJxWDHOwRj\n",
            "zKFA+Rg4zJvdxIFrbedzn2HZiQv0HmNmKtnk6T2lmHjJOuiaMGq9VF26QVNu1a4v\n",
            "q82ocUTx97vuio+Yhfv5t+hU1VQmWLO9S3j/TZD9GguxS12W/eceSVV8xPUgRXpA\n",
            "E4QGCm2NhWPl/qsYFUZAY0HRU2r8IVxZAcDmrjug5IyWY5ZJYugY2MayErrfv56X\n",
            "yBPxb0LWU2YFGOSE2HfXzkU0yxsXq7M5O2muxNwsoDOH+w/3R2BdduFkCoKB/88L\n",
            "VApmwFmpYEFc7JIfUXLBzDTdER8laiLaqL7FLRbjvoW8WU+y9F7c3m868hMCc/x4\n",
            "Gj4vIWJU1hHK6IdmNEPVqGXjgGJfpI5TZJ5mefRUO3DOEC7fBU9gENVEGX4VykPb\n",
            "vF5fFCc2uqEubPO1OZuQLbYd+JX2vA/Yf4NXArtyHNcntDNEaXJrIEVkZGVsYnVl\n",
            "dHRlbCA8ZGlyay5lZGRlbGJ1ZXR0ZWxAUi1Qcm9qZWN0Lm9yZz6IRgQQEQIABgUC\n",
            "Uz61+gAKCRAJlJH3kbDTt7+2AJ9OEkhet/biKHOezN5M313KVEn46gCgkXKJCmSL\n",
            "VXmEhT72GGnzKAI77G6IRgQQEQIABgUCVAdF6QAKCRAVKGX7YnzPld+RAJ0YK/Aa\n",
            "nyx9oA/p9T1/vFWJO6t8IQCfa/bODo20GJMcU9zmbkhg7+k/JpiIRgQQEQgABgUC\n",
            "U0AowgAKCRDbBAoTo9e5vFPgAJkBBjr3n22bSRVQn0GbabCN6DIAagCeJfrmELMA\n",
            "kh+1QgcSJ/A28qgnuFaIRgQQEQgABgUCU1w+PAAKCRB5sBJmk3Ae74u7AJ9u+ydE\n",
            "L4iYQKsHILpzdAzayh2u8gCeO/CxVx7HGOD+PboLoUwuasnZif2IRgQQEQgABgUC\n",
            "VJiNEQAKCRAwVvDvTC0++gvMAJ90k6EAoVqxCeskmFL7AQswEGMNuQCgu4VrwlIr\n",
            "jDVAKaaULjngfr/K8zmIRgQQEQgABgUCVLA2fwAKCRBL/b2mYEX7Hg8HAKCARWiy\n",
            "7Q7c2aA8D3BqBkbfHOuUTACgiM+6LeFn7EZdpVifZgimmpGwwTSJAhsEEAEIAAYF\n",
            "AlNcPVwACgkQWKkizdtdsI4ucQ/4peEf2FkMJ9xSrenLTOSiVs5Xy2+72KdPzP3y\n",
            "WMBmeWDtlAc+iQxsShFGd+jna7jT5Lmg1asj4aMiyrjWxVqQkjukZRfB6wLYNy9/\n",
            "vheVaS5VH1ydokVsXQgxK8YWc4dVuq2/0HdqWfDFHjSB+xOVDZDMksbRa2JNfSmU\n",
            "G0U620JZcaAp5k/zI79kTgNcGzFSkWLwlcaO56pUplu/biM8hWuho0lEcSaPIr4P\n",
            "tNGowESlyuQtFCQnew9Pb2Lm2nb8otPrC6BxQTBLhtqtsu1DFmBFuz8Sqcde/u7f\n",
            "cbF3q4w+GOWEuGU37PUYPW0HcSDMNZbKVia7Re8O6zPYkpe61IXQnUJOWaMAgsGh\n",
            "hqVY9KXehXMnQ+iOhw25ajnnU+szElTSzwB7aGuwxxioKqoRu4HyDx3b/ANtBYt7\n",
            "kH8VzsE2u3Hhpo6iat1CWo8q8PgzLhKCiw0CZ/CkeJQQ9yaC5v73nooOm9sut20Q\n",
            "zPO/fFJmfsI/fW4k6ZNZOzfRhJwtDykBPQHFoBwWb53oVwFMGekgQs3mJHtfT77f\n",
            "rRANvJHskgYBgUV3ClCcyh05LMXlzAb21l77gM/pXjTxqrIkAkBVo/9xUzK3Z1Ek\n",
            "uytK1lEW2RScpCo+J/Ie9wYDXSso3Duj5byqYJmMNoHSe8RL8auukU4JTIZMy7AG\n",
            "H7O4e4kCHAQQAQIABgUCVAvgZAAKCRCc0X1YB8BxOlglD/9gaSbmDW/rIVl0WJcm\n",
            "cKyia8GZBm6xCWCxtoMbS20FBjdt9IGJAqPDUbtarKYznpnt5llUxfA+TciGVmBC\n",
            "s8T32Ad5jLawLIWKhpbudGR3cN67DrknJa+xiPML82Yf0K0UaVzfzT5cfhoFMGUV\n",
            "H2V/fNJUbzck8yBqflhpcuTEc4a0XpylKtiwCQuqif2wWtvAnPA/M/9PrNZN4XJT\n",
            "aDBQbEALwLAeK6grMb6v+cDLSKPh+LB5MD/F7HggWFU9XQnTRbXsUCs1+K2EAVcL\n",
            "uasv8vG/f7QeT4fdgYE0bwTDFa9BFufS12y/KRxX6RVSXvGOF2kCCyUTqZzBM1s6\n",
            "C09sXrKX4pauQdARpfhESHg5a4V87kMd9h3g1f6CSCv/IR3gCTkCerEQ3kevwgwo\n",
            "q7b7wrfOlc35Y752bd8JVM3/tODLfRWDbpmuPC8N19MnSWAFkP/NDBMi0psTUXTH\n",
            "C+eMgWaYEzuCs0d7xC22mKp0SR8/6sBeraK6UGc5YHqPRoYCFli1eaRM7mvCZLth\n",
            "gfLhTeRTMTaOzeEhgnjBvLRJrKi51GFZs+bVwXqPRKMA7eYLV7sUafHi6VfWAioM\n",
            "kw4vpxgtHoOvXT9BJZr9HzYXY+zVTUw3nKQ/5empcb6DeQdwJEfdsn/Hm36wDmJZ\n",
            "s8h9CLXzfSWX9TWJgoOMAcDrc4kCHAQQAQgABgUCU0ApNgAKCRDJ/EG4+Yxmz9eC\n",
            "EACwH5Dh9rcYNV7sGlzrm4QHyHwXvdsLhSGmIi+cbgMulph+MXZwCQnX2GFYNhxe\n",
            "v3mjQlGIF0NaC+94HSBgrrzlReI/uNhL93gO28UbR+FF0ItysPHO1hhIZaAGuWdR\n",
            "JracQntZOXjHSX/+l9VQLtOlUg+skqbk4RIK1FnGemkZYM7Yjq4xkvihcNR0zKYk\n",
            "chREKvEUWujJ+/4yH5y0q6qyDsUlsEWo8vJIU+Rxxm2XRYBniZFC7kFCNIp/euh6\n",
            "fBCCMaM1gMA/TkF7F7iLLN25p2CBLGT7kwRszFitzHrTZjO2Wl9R5OFh+/O2bQ3z\n",
            "MH13Ef/tp5iihy+gWiuIhnvZTeY+xU3S4PqGCvi+e+aLw3cZ1IJCZg1MQK2oL7er\n",
            "kRmDXkt6EP2z+VZzmbU/2TTc/5CgPeqtgzBkKFtvNCTyV15sv7R3/RXw58ylq3Ai\n",
            "Kk1cSfEAWMSy2+OPa+TbiEfklunW8WxUsjuChv5n7FE2JTSHwSKGArS8jYbUYJ/+\n",
            "lnzr8Ko/2DCyYbkhuid4u0DBEL7VeSNuskirqpJqQV7/MBxLL2pbVH6wVyBYpRMY\n",
            "gBNFMUDJ8oE17ESTqmmc0rP5EJCQwBOUUrsDXI/8wNJdFpngXei4V9q6j2BXhZnA\n",
            "TGageKB0+lchm1iQiU+aVIQGkqJWQqT96j4L9PiUCDqXkokCHAQQAQgABgUCVJSY\n",
            "8AAKCRAKUEL0l1EDHEgJD/4rPO6/4d99lUxVesi/5qSozB/7UCeFyPIQXDU8QqOC\n",
            "JAQ1qutPWbVdXpIPq6Tk8rHVxYF7T4Lds3CAs0DjLdlB43QEpGYup+hRwBQdsIYx\n",
            "FL0KqPZ2qmcsus/ZMbvqffiuRj5wPCQ1Rgf3eIRkrXVWohuRk1XVLlXSRYLzWx1F\n",
            "mgBLBaRKxMxRaU87Z8ngA8ESwnD+kKCAM8mN2vdIOUYGzDTjzZeBi4BQWJBJa+RK\n",
            "9geAlv0DWd9mASKiegvL9Rh333DuVkEm62m1oeTiSgqDgnhBiGPjMXvxVNeBYUys\n",
            "j/u/4EA0K+zvg7QNjiYFENaWyPUR3p02JDbv4GVj8gh4Mt+11yYaycsV7XgqQvJO\n",
            "CxoHjjAQR07lWUi5L2YicsafnUJf5om5aRrg51G3bpa4Y6zbnrDl/EfVapV1Athf\n",
            "0JnnLbTo7rD5wRG+8RSmWfTtVOdl+6C+6B33XfRVpqh+5ui59gUUM1scesgxez0U\n",
            "mBRDWde5xohRvU8YwGZJl4VPyCM6BY8eFIwno0PcRVs+8p1HK6bQB6FPjYJNJYLP\n",
            "fGfsx/OSpoa56Bh53nsq+1HEESIdwvfKVO/7rFQzxM2ijbHCOkhK0FPNgyrh0JCH\n",
            "56j/97My3oeafw/HtT0jmIaQkP7VEnlhHC0DhIdmNyz1gzATglWZlNeWlqX3ctdJ\n",
            "YYkCHAQQAQgABgUCVLA18AAKCRC/oo+Ln8iuc+MPD/9BMqf7LWf9sCabDhOSXfql\n",
            "EFzXWwWrrPCXkUL/KK1kHf9BVbDY0lr47rDRXP3q/uIV/WDOXZ2sbZdS4VRKyshN\n",
            "Rzz/XK9W6/wbfyidemD3bJdd3wqH80XRz2qc5yThTme3fLuBg/bjdrlht4Oh7Lsh\n",
            "R0oXOh9a1CijWtdflL/IRMOzQJnqHhqRjLUduM1NrhSbrEecH9MOSJlFoRVeyI7+\n",
            "yIikOCyOlEuLLq1CeZiydhQpoetGKOnwzpfUmm/B/jnxczoe7dS1PqVxPVZAz6Jy\n",
            "Kcu8xqaJtuzrES4eAS7vz2bMAqnkhx3yOa7BNQ8ZF0KRdQmanpefNR7LVfGYgZxl\n",
            "DspO/D2tGZIXuAHauztviRkW1ZqE8opxvUjVEkyj/yOAzApuH/lU/+nLQO2MScvL\n",
            "HXd5C2TmHAFXjXzLfCoZPLGZC9VUJh04rLbaHZn3lPw5xm1HRCYBf7+5V+ojp9JU\n",
            "BrcnUbRAvC0lN5Fi3KGIqnIBwRk9lEzaD/izmxmcUa516ZPXPkiBxDE/3nWs6lI2\n",
            "UgINl9WPWVQGjxptDu7uu4mApiLG2MIAijYP2N9wUrZJ8g5hWKiO+2ovoMBLtPB8\n",
            "T/tUGGTRACZ80HJo2Z0Zc8yqDR+VkINq92XAUb9mVV0j94qNNOjMiEEhyBgzQ3c0\n",
            "Dfcl4bHQzb8nO6+Xy9zo4YkCMwQQAQgAHRYhBH1q23UPkQhViUhL5nfAx157ZQgI\n",
            "BQJYrZ5OAAoJEHfAx157ZQgIytoP/1aDfUhxWNDxMSAw/Vaxlo6okJ5FmXCbTCyH\n",
            "IJicy24HMpMdJhshSl2lYLe45W0oHdeTet3ZkBVC9sHqr8ESzQBySwG43USH+m+y\n",
            "m1gDp6c2D8zrSvpKihaFez//oJ/7rIXitlEv0S9jO1w29OfsKL8ONc4np3VrXR1k\n",
            "9JsyZoPy2vrRkseS9ZIWXidk5AVBM3yoDaTCyvSPlQ+n5FOAjIXJLJkfHuWsrkej\n",
            "PJr97Rs+7sTZnZWT+3V8hmYpQfepqkFLiMhKLVuBkqRS4ncdvBns3hI1dd+nbS4p\n",
            "XEOaBSW+TDw/JE9COfbnbPjNAqYHZ5FGTr1PwEAmIHYvE02KdyhsElKjmjJohdzL\n",
            "9OYr9v17yuyo3c6Seyk6JCvap5tHqRvjcjwJo5ZHYew37MBZ+pnDpqHlv/D0p6zV\n",
            "S7Mp4HcfjiguDO4SDUNKwtEvcrLC3UWwfF/eUeAa4QKQhiTKXDsYdkYRZ8CW840D\n",
            "VJfxtutsmI98dlmz2nBTgyNxpueWIGLZAg6X+g83boGHJRBdDPfN90ggaIUG/eYS\n",
            "zyhlvpTCw2HkEv6yx5EiSpnUy64nznVdbhzwxYPCaoCZhSicMx8LT7vp/y3UX97o\n",
            "gpv7xXjFrz8Y+ueGfYbHOnm+bOomhHVGfnSzezFg8YcyLeEA68UIO3d7KUmfH7sD\n",
            "dcflJjfTiQI4BBMBAgAiBQJTPrMcAhsDBgsJCAcDAgYVCAIJCgsEFgIDAQIeAQIX\n",
            "gAAKCRChSJ/iq5miGnlTEACtqRHgpTGN36HB0sNzG21jpLSpVdnRNYtsxyTFuNRz\n",
            "Yoi0sjRQVUcvgqNb129f4HvLQIC1ysVitLQRSd2aIyLa0xTFqG7PTbbdVIaJIGiG\n",
            "8MWA0wHdcW5YTf6DFMr3dCHGKKkIdJGi0M4z1Ge3TuMFiMm0J5y9yQ500xJvXBF4\n",
            "7F1q7WYYi1tEus6IatU/77qLKhXBs+9iPWs2ix4Hxr0T8YM82ujMhvdwXHk/X+g4\n",
            "JVsG/b9g5tvYP6vNZWA3OOaGJZoT0ZIP2/Aa+XZqlyCZmS2wm5Hu52rNtqJ1KUeI\n",
            "a2oOFnIke09pM337Cis3XK45ZyRSrbxFPxNHPIJugvDu9bMQ1wwaDpYN2ceFFOzy\n",
            "5sWXGVsHqf2p0nGhTkRTpzLP4IMzNf2pB4Vx8fbS+w0Bj3o7EJSm09daGdrFs66/\n",
            "x/VLYudOryv/rjLVXzYsCCe3GoHKmEr29ZZKQcmOv4JAbw0BmtkAAN1+mrL9X2Zr\n",
            "U3d7JHtjsqwCKTuluRMmmShgoNtWh4SCIitwwb3J5FLva93oodup6MHqqzQ8lkl5\n",
            "PIAGhbZhYLW+SaK5/IdQzAl4FDCCGK4/4369YvpK6RfhUAdWG/HsJVQXdTKuJfCl\n",
            "GXmDeuUwXZDFEXeeSjCvd5RZ4UA3I/Yk6TktEhZT2Zh3FrLQZFhLfwaETvE3x6rg\n",
            "rYkCMwQQAQgAHRYhBAu+7vBk6Uq+hDJYtHVBz6r8NerPBQJZ4DXKAAoJEHVBz6r8\n",
            "NerPP0YQALqf1obDiraLNVdYjiMDhuYDNbfodTZngMkkVZjQexHvYRxxVjaw7KBq\n",
            "vAsZxxyJ5af1oMFHLEdLi7538XtLpcyw/l2NFfUGN1Da2bJ+xnCL8xK6A1ROYgnH\n",
            "wgH851r/ahQjO7vvuVrKME1on2wSWFFheYa8wE0iNKzYNqn1oHTKccNLnUPoDtjC\n",
            "fs+vg/OjGjJ3vUAoSjn5GGp8WS1m7iigvVKOvf5iEOQyMhDcg2c4b40K1LmtRLNs\n",
            "nW6kL+sYQ7lLGE4GcD4rcTHSggu94s8I600UsXo1OefY7plm+rsujkgcfOfhWy5v\n",
            "kEdJHil0eG2uL9dXxqyOF0vdwvv13pSXnVL66QJ154n2RfxUwUQbhpk7voCiaIM2\n",
            "jHAD+7C5bueMgB7K9Xze9haetrp4pFwrDKjMnmSiwSUZH/8ohZRg4FP6BB4RbxfL\n",
            "nGylQxjXEfCdf+6UYwZccRQ0OtW8SvylTRGHHEZGR3Eb3jKK574Y5CZTwX+O8UO+\n",
            "+Y2M2IED7SEfYB8esDKaSBeA45BpeeAzLp1/cewbNJrGfhLihcW08ssmdfNKj6Hg\n",
            "iQp63e6dEXwMeRqiP8n1dQvRkVuMnhpjry2F9yQwzwyGgpLwiBtNY320M2h+dALA\n",
            "JsgKXSQhGLnKGwZbyw3Xn6r+0IdNXbfBJ9mxzAvVFRhvSwSJZbWluQINBFM+sY8B\n",
            "EADhjxWFMGpto55PFbNFDxfFHzSnZHvdvDFziMPhchNZB2UQvGvMC3p/v2MMu+Jt\n",
            "eou1a41mqbQw9piEGuWPLX4v3HfQGrGwQLMXut7ldKudujbr3AKAS2z/NTosVOoX\n",
            "3pSzbAYukrWuetdg/4drvn3aNxP7L2zu+b+OYQoGw/cQXAxmdmpbB94NoctZt/5A\n",
            "T07Y3DEv/6R3k3ZP9vB78ylHkfza8LWNeBqE/fhUDSTXM2Yr1RimcYudTT/9g1Za\n",
            "+/yg6Zaxgs7nWqQA9tjkoJ8CoE2JMhCBbHwugjjz8BeHXNK7I9EAQnQe1PCWgclt\n",
            "ii3nArjmVwcHkwN3n5L3JLDsL8zUVNOFkzPDp8ovMN6HHqNtVTe0XTVcKeio9fGw\n",
            "CggfZBAXEOUu8CNdPf6JrrUihyyLyGJ5a+T5jQ8KjSn/sgF95eurG9dZKnbWDlfy\n",
            "ewZl2q/KqmFFogdtlm6m49OpfHgG92rGZtm0exbn2TeafLCZCGPTvqPJpBKqfL6g\n",
            "SWbD8WmgjFbMAQ8Kn7vuGqI1IkATXGsnnCSSBg6UxRZAJYeiNjDfGrgOSBSoih18\n",
            "babkaZPAw8gZqZEAX1blnxO86FYrd67g73DegVLecrTx7Y5atwS5osbVWZr7iatS\n",
            "W/IxZL8tRWmk6/tYQw1o7qcZ6mTlgWjaRqHCx0Q3gJHaZQARAQABiQIfBBgBAgAJ\n",
            "BQJTPrGPAhsMAAoJEKFIn+KrmaIaNCMP/jqIu/HFbLeFJ6sh9dC+DTxFgZV0pr7R\n",
            "yFtERfBYwyhGJggV3rklWXnmPCvggCh7FBXPzQaLYj+Ebkg44RlNyTTqwiG6QyG+\n",
            "94BbtoOgcP54ZIeKGmoqyMs7hpKv3jF4i8YkhFBkmd9x2iGBHWyJ/hibZ11l+us5\n",
            "86D7ue9UKKvpSyqwvA+lVQ3wz3tgj/A/baIKDkHfTjyGpTDP9R7qKMiXDEEL5idE\n",
            "PceoUr3vdw2ziF9RkJ5Tqp4bISMmOHUiSWDmhoKBqmmm1/jyfWsPq33wdhliCKm8\n",
            "QsAXHAbYQ8ZSBbnpEkg42C2JBJ/MVm/HcgOaYhyba5KE69Us8zqw91CngodwDQXa\n",
            "nrZXOaA4/H4sUnyg0ucP3YvhL0y1NjH1rfrZ2318wyS40yKkHVkU2sWB6HeNfkJu\n",
            "Nflx37ptkvguTHVF5B+jD9LS5djUGANCYtvRK0jRwCPdqVUgBIb2obr0kmGovXnE\n",
            "Pmn9UZoqDqSm5FY80Rj6ElPSQso0rB9oI2QkNrZaCSezvu6SW2Tzm2b/ceuGz/+r\n",
            "ARLZNqmAFO8oUDjrCw45Dy4ne53e+Vqduvx1Q76LuoUnE2YGqOVGFzT0QLas+oMJ\n",
            "VJl6GRFKtZoRFEhMxDFf2mUSgis4mSjwMZI4pl0YmzDDM8IN/i+P2dFrRr1AkA89\n",
            "I5rGSOk715L9\n",
            "=VuA5\n",
            "-----END PGP PUBLIC KEY BLOCK-----\n",
            "Hit:1 https://cloud.r-project.org/bin/linux/ubuntu jammy-cran40/ InRelease\n",
            "Hit:2 https://developer.download.nvidia.com/compute/cuda/repos/ubuntu2204/x86_64  InRelease\n",
            "Hit:3 http://security.ubuntu.com/ubuntu jammy-security InRelease\n",
            "Hit:4 http://archive.ubuntu.com/ubuntu jammy InRelease\n",
            "Ign:5 https://r2u.stat.illinois.edu/ubuntu jammy InRelease\n",
            "Get:6 https://r2u.stat.illinois.edu/ubuntu jammy Release [5,713 B]\n",
            "Hit:7 http://archive.ubuntu.com/ubuntu jammy-updates InRelease\n",
            "Get:8 https://r2u.stat.illinois.edu/ubuntu jammy Release.gpg [793 B]\n",
            "Hit:9 http://archive.ubuntu.com/ubuntu jammy-backports InRelease\n",
            "Hit:10 https://ppa.launchpadcontent.net/c2d4u.team/c2d4u4.0+/ubuntu jammy InRelease\n",
            "Get:11 https://r2u.stat.illinois.edu/ubuntu jammy/main all Packages [7,487 kB]\n",
            "Hit:12 https://ppa.launchpadcontent.net/deadsnakes/ppa/ubuntu jammy InRelease\n",
            "Get:13 https://r2u.stat.illinois.edu/ubuntu jammy/main amd64 Packages [2,364 kB]\n",
            "Hit:14 https://ppa.launchpadcontent.net/graphics-drivers/ppa/ubuntu jammy InRelease\n",
            "Hit:15 https://ppa.launchpadcontent.net/ubuntugis/ppa/ubuntu jammy InRelease\n",
            "Fetched 9,857 kB in 2s (5,717 kB/s)\n",
            "Reading package lists...\n",
            "Building dependency tree...\n",
            "Reading state information...\n",
            "145 packages can be upgraded. Run 'apt list --upgradable' to see them.\n",
            "-----BEGIN PGP PUBLIC KEY BLOCK-----\n",
            "\n",
            "mQENBEy9tcUBCACnWQfqdrcz7tQL/iCeWDYSYPwXpPMUMLE721HfFH7d8ErunPKP\n",
            "Iwq1v4CrNmMjcainofbu/BfuZESSK1hBAItOk/5VTkzCJlzkrHY9g5v+XlBMPDQC\n",
            "9u4AE/myw3p52+0NXsnBz+a35mxJKMl+9v9ztvueA6EmLr2xaLf/nx4XwXUMSi1L\n",
            "p8i8XpAOz/Xg1fspPMRhuDAGYDnOh4uH1jADGoqYaPMty0yVEmzx74qvdIOvfgj1\n",
            "6A/9LYXk67td6/JQ5LFCZmFsbahAsqi9inNgBZmnfXO4m4lhzeqNjJAgaw7Fz2zq\n",
            "UmvpEheKKClgTQMWWNI9Rx1L8IKnJkuKnpzHABEBAAG0I01pY2hhZWwgUnV0dGVy\n",
            "IDxtYXJ1dHRlckBnbWFpbC5jb20+iQFVBBMBCgA/AhsjBgsJCAcDAgYVCAIJCgsE\n",
            "FgIDAQIeAQIXgBYhBOKYo6glwNZd/VfLtlFxZhnghNq5BQJfdcXRBQkf4HiMAAoJ\n",
            "EFFxZhnghNq5Nj8IAIqCTIJ/tMjZqiuwe7M4DQjpvGn4/QylkYLxn9dOds2nGz82\n",
            "FAukEAR3tmi22TETrqm+UOukFYUnAEOez7BJiWPwCDt9WuD4/Be8rzbjL0wEv/xu\n",
            "D1JHWxVd2DfbJG1PAsuv7ouFYbIdh24a8gYpasd6twdbPOdZa0mbzVOnwAmHiH1l\n",
            "gv2oY/McOO7unc/YGuD2lTb5ohK8yYdHsL5WYK7REPGqEGBS+ppUPWjI1qQb/g2X\n",
            "oSVfbLLiXiwdvBS4hzjiwGNe76B2jDuHsfmQFMdVpOzNKN0dk10Nm8MFFPrirUIl\n",
            "Uwk45UttOrcrs5hluLYZhMYHPJ/UNYnaJeJH58iJAT4EEwECACgFAky9tcUCGyMF\n",
            "CQlmAYAGCwkIBwMCBhUIAgkKCwQWAgMBAh4BAheAAAoJEFFxZhnghNq5PL0H/iGY\n",
            "9DsJKrDk5Lm3xTnLfwGWod+WoV6/eWVfrywO3Nh/FC5BVLd/E4GgaYVD8tJ9dBiE\n",
            "MboFlricO4NkSBvzUy+PQMkOXiWbIx0Ggi9eG90Q8N3+us4b7W3b5Ljb1b00g5sp\n",
            "pkKz1pu/Z+ciGu3IBbFz+I1HmsmY1ejO8lUYCAB42EFKu9moVo8n/8GSVsmF9WA3\n",
            "C3gaC0WXW9pTssxoys5YD0fJ3x1YAa4iFthc44WPVZn86FSVheewh7xfNonXLovJ\n",
            "WQIuFon4xW0bBNesVdGEEtCWEJgF87bmL88ZRZK9GEjyf+v5Ew067LUeUVt7FFiu\n",
            "09c4tuI7wCUW4ixf2dG5AQ0ETL21xQEIANhwKBAIIXVZRKftz9Vc2+CZfO+/eVVf\n",
            "1aRXhB2lwleK1eCVd1NnBXEa/cDEO5osTDFbutuopE/NY2OPjFMfG3Zi1SMT6YtX\n",
            "nwAVpBBTdqV1gbwk+vZ6iEw1mqnYEbah1zPDl5o7mXkROMLWcdSMNSby6zdNXcBc\n",
            "5qMCOC4a+kbcMqfH+Ca52swFVIAQTriR5/IGZJHrzfOReHD42BtMgP1dbU5KoT58\n",
            "tB/RnNASiMx19gh5XxDmwwCZTcn0B2WnIOtlphGaKmGDDw9lMxqGHP+joHPunpWo\n",
            "Dg1yavbbmee0iyNRTPSIrpOxo6L0qsXbdHD4gNQl5iR1VvAapq+AkbUAEQEAAYkB\n",
            "PAQYAQoAJgIbDBYhBOKYo6glwNZd/VfLtlFxZhnghNq5BQJfdcYKBQkf4HjFAAoJ\n",
            "EFFxZhnghNq5J2MH/13zMlB45Qire0mklv3z/Q0HVHTgV8QTRWNdb2GTOQAWQjJZ\n",
            "rupkz/MlwmFejoSJo1uM/Dhb19PNnLyVQ7onHBd7+aeKJ+Tbzlw2dHkgjO3bkRVF\n",
            "VBg0U2xg5a7NXlqSoaAzWi+py6bQR+Qj1AIbZNL9s24LSUfazPc2hO7TsNQoOUCG\n",
            "BQ8zvot2oRXOe/4lOmjaYFTb13KXr5ozrKzkm66p07QM5lXmrdsgterKUDdf00+z\n",
            "EXG+vo+j5qnz77TghahivkZip3FwW5APP+/8fWrQRSMzBToFWGZuLri4uef+P/7D\n",
            "2jiqon7LxHKcTkL+MajTgwrtuH5bI7hL2445uew=\n",
            "=xbQ3\n",
            "-----END PGP PUBLIC KEY BLOCK-----\n",
            "Executing: /tmp/apt-key-gpghome.MjETn45Q35/gpg.1.sh --keyserver keyserver.ubuntu.com --recv-keys 67C2D66C4B1D4339 51716619E084DAB9\n",
            "145 packages can be upgraded. Run 'apt list --upgradable' to see them.\n",
            "Reading package lists...\n",
            "Building dependency tree...\n",
            "Reading state information...\n",
            "r-base-core is already the newest version (4.3.1-4.2204.0).\n",
            "0 upgraded, 0 newly installed, 0 to remove and 145 not upgraded.\n",
            "Reading package lists...\n",
            "Building dependency tree...\n",
            "Reading state information...\n",
            "make is already the newest version (4.3-4.1build1).\n",
            "make set to manually installed.\n",
            "python3-dbus is already the newest version (1.2.18-3build1).\n",
            "python3-dbus set to manually installed.\n",
            "python3-apt is already the newest version (2.4.0ubuntu2).\n",
            "python3-apt set to manually installed.\n",
            "python3-gi is already the newest version (3.42.1-0ubuntu1).\n",
            "python3-gi set to manually installed.\n",
            "0 upgraded, 0 newly installed, 0 to remove and 145 not upgraded.\n",
            "* installing /usr/share/dbus-1/system-services/org.r_project.linux1.service\n",
            "* installing /etc/dbus-1/system.d/org.r_project.linux1.conf"
          ]
        },
        {
          "output_type": "stream",
          "name": "stderr",
          "text": [
            "Tracing function \"install.packages\" in package \"utils\"\n",
            "\n",
            "There are missing packages: httpuv, R.utils\n",
            "\n",
            "\n",
            "Attaching package: ‘R.oo’\n",
            "\n",
            "\n",
            "The following object is masked from ‘package:R.methodsS3’:\n",
            "\n",
            "    throw\n",
            "\n",
            "\n",
            "The following objects are masked from ‘package:methods’:\n",
            "\n",
            "    getClasses, getMethods\n",
            "\n",
            "\n",
            "The following objects are masked from ‘package:base’:\n",
            "\n",
            "    attach, detach, load, save\n",
            "\n",
            "\n",
            "\n",
            "Attaching package: ‘R.utils’\n",
            "\n",
            "\n",
            "The following object is masked from ‘package:utils’:\n",
            "\n",
            "    timestamp\n",
            "\n",
            "\n",
            "The following objects are masked from ‘package:base’:\n",
            "\n",
            "    cat, commandArgs, getOption, isOpen, nullfile, parse, warnings\n",
            "\n",
            "\n"
          ]
        }
      ]
    },
    {
      "cell_type": "code",
      "execution_count": 3,
      "metadata": {
        "colab": {
          "base_uri": "https://localhost:8080/"
        },
        "id": "qH7HPbmz9Ymw",
        "outputId": "7dbf18ba-3ba9-422b-8a53-f3cacf71ce23"
      },
      "outputs": [
        {
          "output_type": "stream",
          "name": "stdout",
          "text": [
            "total 880\n",
            "drwxr-xr-x 1 root root   4096 Sep 28 13:27 .\n",
            "drwxr-xr-x 1 root root   4096 Sep 28 13:22 ..\n",
            "drwxr-xr-x 4 root root   4096 Sep 26 13:24 .config\n",
            "-rw-r--r-- 1 root root 884736 Sep 28 13:24 disco.db\n",
            "drwxr-xr-x 1 root root   4096 Sep 26 13:25 sample_data"
          ]
        }
      ],
      "source": [
        "shell_call(\"ls -al\")"
      ]
    },
    {
      "cell_type": "code",
      "source": [
        "shell_call(\"du -h disco.db\")"
      ],
      "metadata": {
        "colab": {
          "base_uri": "https://localhost:8080/"
        },
        "id": "jmDUqoza-emy",
        "outputId": "3eeee170-865c-49a5-864f-9a3a8fe837da"
      },
      "execution_count": 4,
      "outputs": [
        {
          "output_type": "stream",
          "name": "stdout",
          "text": [
            "864K\tdisco.db"
          ]
        }
      ]
    },
    {
      "cell_type": "code",
      "source": [
        "list.files()"
      ],
      "metadata": {
        "colab": {
          "base_uri": "https://localhost:8080/",
          "height": 34
        },
        "id": "3dudukVx_luG",
        "outputId": "639b4743-736c-42d9-a4c7-546fa43828b0"
      },
      "execution_count": 5,
      "outputs": [
        {
          "output_type": "display_data",
          "data": {
            "text/html": [
              "<style>\n",
              ".list-inline {list-style: none; margin:0; padding: 0}\n",
              ".list-inline>li {display: inline-block}\n",
              ".list-inline>li:not(:last-child)::after {content: \"\\00b7\"; padding: 0 .5ex}\n",
              "</style>\n",
              "<ol class=list-inline><li>'disco.db'</li><li>'sample_data'</li></ol>\n"
            ],
            "text/markdown": "1. 'disco.db'\n2. 'sample_data'\n\n\n",
            "text/latex": "\\begin{enumerate*}\n\\item 'disco.db'\n\\item 'sample\\_data'\n\\end{enumerate*}\n",
            "text/plain": [
              "[1] \"disco.db\"    \"sample_data\""
            ]
          },
          "metadata": {}
        }
      ]
    },
    {
      "cell_type": "markdown",
      "source": [
        "#Pacotes"
      ],
      "metadata": {
        "id": "3WMmq7OnAlRB"
      }
    },
    {
      "cell_type": "code",
      "source": [
        "install.packages(\"RSQLite\")"
      ],
      "metadata": {
        "id": "mAmYbDOoAaiU"
      },
      "execution_count": 6,
      "outputs": []
    },
    {
      "cell_type": "code",
      "source": [
        "library(\"RSQLite\")"
      ],
      "metadata": {
        "id": "WrAS7ftDAtiy"
      },
      "execution_count": 7,
      "outputs": []
    },
    {
      "cell_type": "markdown",
      "source": [
        "#Questão 1"
      ],
      "metadata": {
        "id": "P5Sm0kpJAvOx"
      }
    },
    {
      "cell_type": "code",
      "source": [
        "path = getwd()"
      ],
      "metadata": {
        "id": "oS8eMJMiAxy4"
      },
      "execution_count": 11,
      "outputs": []
    },
    {
      "cell_type": "code",
      "source": [
        "fname = file.path(path, \"disco.db\")"
      ],
      "metadata": {
        "id": "t9zT76PnBH6J"
      },
      "execution_count": 13,
      "outputs": []
    },
    {
      "cell_type": "code",
      "source": [
        "file.exists(fname)"
      ],
      "metadata": {
        "colab": {
          "base_uri": "https://localhost:8080/",
          "height": 34
        },
        "id": "UYEOgEt2CbkU",
        "outputId": "5b39be6e-5b11-4bed-f95c-57451a52a58e"
      },
      "execution_count": 14,
      "outputs": [
        {
          "output_type": "display_data",
          "data": {
            "text/html": [
              "TRUE"
            ],
            "text/markdown": "TRUE",
            "text/latex": "TRUE",
            "text/plain": [
              "[1] TRUE"
            ]
          },
          "metadata": {}
        }
      ]
    },
    {
      "cell_type": "markdown",
      "source": [
        "#Questão 2"
      ],
      "metadata": {
        "id": "Jp33ctJoB0sM"
      }
    },
    {
      "cell_type": "code",
      "source": [
        "conn = dbConnect(SQLite(), fname)"
      ],
      "metadata": {
        "id": "7PRTlosHB2Ul"
      },
      "execution_count": 17,
      "outputs": []
    },
    {
      "cell_type": "code",
      "source": [
        "conn"
      ],
      "metadata": {
        "colab": {
          "base_uri": "https://localhost:8080/",
          "height": 71
        },
        "id": "DxfrxW1_DvzW",
        "outputId": "e5674e8e-2356-4ca1-9542-c4e7f3ebefc1"
      },
      "execution_count": 20,
      "outputs": [
        {
          "output_type": "display_data",
          "data": {
            "text/plain": [
              "<SQLiteConnection>\n",
              "  Path: /content/disco.db\n",
              "  Extensions: TRUE"
            ]
          },
          "metadata": {}
        }
      ]
    },
    {
      "cell_type": "markdown",
      "source": [
        "#Questão 3"
      ],
      "metadata": {
        "id": "G_5bkgOXDzqv"
      }
    },
    {
      "cell_type": "code",
      "source": [
        "dbListTables(conn)"
      ],
      "metadata": {
        "colab": {
          "base_uri": "https://localhost:8080/",
          "height": 52
        },
        "id": "9YjZDeR-D1z1",
        "outputId": "986f955e-b131-4b0b-8db7-941e2ea38632"
      },
      "execution_count": 26,
      "outputs": [
        {
          "output_type": "display_data",
          "data": {
            "text/html": [
              "<style>\n",
              ".list-inline {list-style: none; margin:0; padding: 0}\n",
              ".list-inline>li {display: inline-block}\n",
              ".list-inline>li:not(:last-child)::after {content: \"\\00b7\"; padding: 0 .5ex}\n",
              "</style>\n",
              "<ol class=list-inline><li>'albums'</li><li>'artists'</li><li>'customers'</li><li>'employees'</li><li>'genres'</li><li>'invoice_items'</li><li>'invoices'</li><li>'media_types'</li><li>'playlist_track'</li><li>'playlists'</li><li>'sqlite_sequence'</li><li>'sqlite_stat1'</li><li>'tracks'</li></ol>\n"
            ],
            "text/markdown": "1. 'albums'\n2. 'artists'\n3. 'customers'\n4. 'employees'\n5. 'genres'\n6. 'invoice_items'\n7. 'invoices'\n8. 'media_types'\n9. 'playlist_track'\n10. 'playlists'\n11. 'sqlite_sequence'\n12. 'sqlite_stat1'\n13. 'tracks'\n\n\n",
            "text/latex": "\\begin{enumerate*}\n\\item 'albums'\n\\item 'artists'\n\\item 'customers'\n\\item 'employees'\n\\item 'genres'\n\\item 'invoice\\_items'\n\\item 'invoices'\n\\item 'media\\_types'\n\\item 'playlist\\_track'\n\\item 'playlists'\n\\item 'sqlite\\_sequence'\n\\item 'sqlite\\_stat1'\n\\item 'tracks'\n\\end{enumerate*}\n",
            "text/plain": [
              " [1] \"albums\"          \"artists\"         \"customers\"       \"employees\"      \n",
              " [5] \"genres\"          \"invoice_items\"   \"invoices\"        \"media_types\"    \n",
              " [9] \"playlist_track\"  \"playlists\"       \"sqlite_sequence\" \"sqlite_stat1\"   \n",
              "[13] \"tracks\"         "
            ]
          },
          "metadata": {}
        }
      ]
    },
    {
      "cell_type": "markdown",
      "source": [
        "#Questão 4"
      ],
      "metadata": {
        "id": "GVQYM8XuEwZs"
      }
    },
    {
      "cell_type": "code",
      "source": [
        "dbListFields(conn, \"customers\")"
      ],
      "metadata": {
        "colab": {
          "base_uri": "https://localhost:8080/",
          "height": 52
        },
        "id": "xFM2WUj2EyDj",
        "outputId": "9dff2a7f-c1a3-46c0-8275-273eb12300a6"
      },
      "execution_count": 27,
      "outputs": [
        {
          "output_type": "display_data",
          "data": {
            "text/html": [
              "<style>\n",
              ".list-inline {list-style: none; margin:0; padding: 0}\n",
              ".list-inline>li {display: inline-block}\n",
              ".list-inline>li:not(:last-child)::after {content: \"\\00b7\"; padding: 0 .5ex}\n",
              "</style>\n",
              "<ol class=list-inline><li>'CustomerId'</li><li>'FirstName'</li><li>'LastName'</li><li>'Company'</li><li>'Address'</li><li>'City'</li><li>'State'</li><li>'Country'</li><li>'PostalCode'</li><li>'Phone'</li><li>'Fax'</li><li>'Email'</li><li>'SupportRepId'</li></ol>\n"
            ],
            "text/markdown": "1. 'CustomerId'\n2. 'FirstName'\n3. 'LastName'\n4. 'Company'\n5. 'Address'\n6. 'City'\n7. 'State'\n8. 'Country'\n9. 'PostalCode'\n10. 'Phone'\n11. 'Fax'\n12. 'Email'\n13. 'SupportRepId'\n\n\n",
            "text/latex": "\\begin{enumerate*}\n\\item 'CustomerId'\n\\item 'FirstName'\n\\item 'LastName'\n\\item 'Company'\n\\item 'Address'\n\\item 'City'\n\\item 'State'\n\\item 'Country'\n\\item 'PostalCode'\n\\item 'Phone'\n\\item 'Fax'\n\\item 'Email'\n\\item 'SupportRepId'\n\\end{enumerate*}\n",
            "text/plain": [
              " [1] \"CustomerId\"   \"FirstName\"    \"LastName\"     \"Company\"      \"Address\"     \n",
              " [6] \"City\"         \"State\"        \"Country\"      \"PostalCode\"   \"Phone\"       \n",
              "[11] \"Fax\"          \"Email\"        \"SupportRepId\""
            ]
          },
          "metadata": {}
        }
      ]
    },
    {
      "cell_type": "markdown",
      "source": [
        "#Questão 5"
      ],
      "metadata": {
        "id": "RwSSWHstE-Pr"
      }
    },
    {
      "cell_type": "code",
      "source": [
        "### solução ruim, copia toda a tabela do banco de dados\n",
        "customers = dbGetQuery(conn, \"SELECT * FROM customers\")\n",
        "head(customers)"
      ],
      "metadata": {
        "colab": {
          "base_uri": "https://localhost:8080/",
          "height": 497
        },
        "id": "cfbPZwWPE8CK",
        "outputId": "201114c6-982d-4c4d-9bfd-af833a41bcaf"
      },
      "execution_count": 36,
      "outputs": [
        {
          "output_type": "display_data",
          "data": {
            "text/html": [
              "<table class=\"dataframe\">\n",
              "<caption>A data.frame: 6 × 13</caption>\n",
              "<thead>\n",
              "\t<tr><th></th><th scope=col>CustomerId</th><th scope=col>FirstName</th><th scope=col>LastName</th><th scope=col>Company</th><th scope=col>Address</th><th scope=col>City</th><th scope=col>State</th><th scope=col>Country</th><th scope=col>PostalCode</th><th scope=col>Phone</th><th scope=col>Fax</th><th scope=col>Email</th><th scope=col>SupportRepId</th></tr>\n",
              "\t<tr><th></th><th scope=col>&lt;int&gt;</th><th scope=col>&lt;chr&gt;</th><th scope=col>&lt;chr&gt;</th><th scope=col>&lt;chr&gt;</th><th scope=col>&lt;chr&gt;</th><th scope=col>&lt;chr&gt;</th><th scope=col>&lt;chr&gt;</th><th scope=col>&lt;chr&gt;</th><th scope=col>&lt;chr&gt;</th><th scope=col>&lt;chr&gt;</th><th scope=col>&lt;chr&gt;</th><th scope=col>&lt;chr&gt;</th><th scope=col>&lt;int&gt;</th></tr>\n",
              "</thead>\n",
              "<tbody>\n",
              "\t<tr><th scope=row>1</th><td>1</td><td>Luís     </td><td>Gonçalves  </td><td>Embraer - Empresa Brasileira de Aeronáutica S.A.</td><td>Av. Brigadeiro Faria Lima, 2170</td><td>São José dos Campos</td><td>SP</td><td>Brazil        </td><td>12227-000</td><td>+55 (12) 3923-5555</td><td>+55 (12) 3923-5566</td><td>luisg@embraer.com.br    </td><td>3</td></tr>\n",
              "\t<tr><th scope=row>2</th><td>2</td><td>Leonie   </td><td>Köhler     </td><td>NA                                              </td><td>Theodor-Heuss-Straße 34        </td><td>Stuttgart          </td><td>NA</td><td>Germany       </td><td>70174    </td><td>+49 0711 2842222  </td><td>NA                </td><td>leonekohler@surfeu.de   </td><td>5</td></tr>\n",
              "\t<tr><th scope=row>3</th><td>3</td><td>François </td><td>Tremblay   </td><td>NA                                              </td><td>1498 rue Bélanger              </td><td>Montréal           </td><td>QC</td><td>Canada        </td><td>H2G 1A7  </td><td>+1 (514) 721-4711 </td><td>NA                </td><td>ftremblay@gmail.com     </td><td>3</td></tr>\n",
              "\t<tr><th scope=row>4</th><td>4</td><td>Bjørn    </td><td>Hansen     </td><td>NA                                              </td><td>Ullevålsveien 14               </td><td>Oslo               </td><td>NA</td><td>Norway        </td><td>0171     </td><td>+47 22 44 22 22   </td><td>NA                </td><td>bjorn.hansen@yahoo.no   </td><td>4</td></tr>\n",
              "\t<tr><th scope=row>5</th><td>5</td><td>František</td><td>Wichterlová</td><td>JetBrains s.r.o.                                </td><td>Klanova 9/506                  </td><td>Prague             </td><td>NA</td><td>Czech Republic</td><td>14700    </td><td>+420 2 4172 5555  </td><td>+420 2 4172 5555  </td><td>frantisekw@jetbrains.com</td><td>4</td></tr>\n",
              "\t<tr><th scope=row>6</th><td>6</td><td>Helena   </td><td>Holý       </td><td>NA                                              </td><td>Rilská 3174/6                  </td><td>Prague             </td><td>NA</td><td>Czech Republic</td><td>14300    </td><td>+420 2 4177 0449  </td><td>NA                </td><td>hholy@gmail.com         </td><td>5</td></tr>\n",
              "</tbody>\n",
              "</table>\n"
            ],
            "text/markdown": "\nA data.frame: 6 × 13\n\n| <!--/--> | CustomerId &lt;int&gt; | FirstName &lt;chr&gt; | LastName &lt;chr&gt; | Company &lt;chr&gt; | Address &lt;chr&gt; | City &lt;chr&gt; | State &lt;chr&gt; | Country &lt;chr&gt; | PostalCode &lt;chr&gt; | Phone &lt;chr&gt; | Fax &lt;chr&gt; | Email &lt;chr&gt; | SupportRepId &lt;int&gt; |\n|---|---|---|---|---|---|---|---|---|---|---|---|---|---|\n| 1 | 1 | Luís      | Gonçalves   | Embraer - Empresa Brasileira de Aeronáutica S.A. | Av. Brigadeiro Faria Lima, 2170 | São José dos Campos | SP | Brazil         | 12227-000 | +55 (12) 3923-5555 | +55 (12) 3923-5566 | luisg@embraer.com.br     | 3 |\n| 2 | 2 | Leonie    | Köhler      | NA                                               | Theodor-Heuss-Straße 34         | Stuttgart           | NA | Germany        | 70174     | +49 0711 2842222   | NA                 | leonekohler@surfeu.de    | 5 |\n| 3 | 3 | François  | Tremblay    | NA                                               | 1498 rue Bélanger               | Montréal            | QC | Canada         | H2G 1A7   | +1 (514) 721-4711  | NA                 | ftremblay@gmail.com      | 3 |\n| 4 | 4 | Bjørn     | Hansen      | NA                                               | Ullevålsveien 14                | Oslo                | NA | Norway         | 0171      | +47 22 44 22 22    | NA                 | bjorn.hansen@yahoo.no    | 4 |\n| 5 | 5 | František | Wichterlová | JetBrains s.r.o.                                 | Klanova 9/506                   | Prague              | NA | Czech Republic | 14700     | +420 2 4172 5555   | +420 2 4172 5555   | frantisekw@jetbrains.com | 4 |\n| 6 | 6 | Helena    | Holý        | NA                                               | Rilská 3174/6                   | Prague              | NA | Czech Republic | 14300     | +420 2 4177 0449   | NA                 | hholy@gmail.com          | 5 |\n\n",
            "text/latex": "A data.frame: 6 × 13\n\\begin{tabular}{r|lllllllllllll}\n  & CustomerId & FirstName & LastName & Company & Address & City & State & Country & PostalCode & Phone & Fax & Email & SupportRepId\\\\\n  & <int> & <chr> & <chr> & <chr> & <chr> & <chr> & <chr> & <chr> & <chr> & <chr> & <chr> & <chr> & <int>\\\\\n\\hline\n\t1 & 1 & Luís      & Gonçalves   & Embraer - Empresa Brasileira de Aeronáutica S.A. & Av. Brigadeiro Faria Lima, 2170 & São José dos Campos & SP & Brazil         & 12227-000 & +55 (12) 3923-5555 & +55 (12) 3923-5566 & luisg@embraer.com.br     & 3\\\\\n\t2 & 2 & Leonie    & Köhler      & NA                                               & Theodor-Heuss-Straße 34         & Stuttgart           & NA & Germany        & 70174     & +49 0711 2842222   & NA                 & leonekohler@surfeu.de    & 5\\\\\n\t3 & 3 & François  & Tremblay    & NA                                               & 1498 rue Bélanger               & Montréal            & QC & Canada         & H2G 1A7   & +1 (514) 721-4711  & NA                 & ftremblay@gmail.com      & 3\\\\\n\t4 & 4 & Bjørn     & Hansen      & NA                                               & Ullevålsveien 14                & Oslo                & NA & Norway         & 0171      & +47 22 44 22 22    & NA                 & bjorn.hansen@yahoo.no    & 4\\\\\n\t5 & 5 & František & Wichterlová & JetBrains s.r.o.                                 & Klanova 9/506                   & Prague              & NA & Czech Republic & 14700     & +420 2 4172 5555   & +420 2 4172 5555   & frantisekw@jetbrains.com & 4\\\\\n\t6 & 6 & Helena    & Holý        & NA                                               & Rilská 3174/6                   & Prague              & NA & Czech Republic & 14300     & +420 2 4177 0449   & NA                 & hholy@gmail.com          & 5\\\\\n\\end{tabular}\n",
            "text/plain": [
              "  CustomerId FirstName LastName   \n",
              "1 1          Luís      Gonçalves  \n",
              "2 2          Leonie    Köhler     \n",
              "3 3          François  Tremblay   \n",
              "4 4          Bjørn     Hansen     \n",
              "5 5          František Wichterlová\n",
              "6 6          Helena    Holý       \n",
              "  Company                                         \n",
              "1 Embraer - Empresa Brasileira de Aeronáutica S.A.\n",
              "2 NA                                              \n",
              "3 NA                                              \n",
              "4 NA                                              \n",
              "5 JetBrains s.r.o.                                \n",
              "6 NA                                              \n",
              "  Address                         City                State Country       \n",
              "1 Av. Brigadeiro Faria Lima, 2170 São José dos Campos SP    Brazil        \n",
              "2 Theodor-Heuss-Straße 34         Stuttgart           NA    Germany       \n",
              "3 1498 rue Bélanger               Montréal            QC    Canada        \n",
              "4 Ullevålsveien 14                Oslo                NA    Norway        \n",
              "5 Klanova 9/506                   Prague              NA    Czech Republic\n",
              "6 Rilská 3174/6                   Prague              NA    Czech Republic\n",
              "  PostalCode Phone              Fax                Email                   \n",
              "1 12227-000  +55 (12) 3923-5555 +55 (12) 3923-5566 luisg@embraer.com.br    \n",
              "2 70174      +49 0711 2842222   NA                 leonekohler@surfeu.de   \n",
              "3 H2G 1A7    +1 (514) 721-4711  NA                 ftremblay@gmail.com     \n",
              "4 0171       +47 22 44 22 22    NA                 bjorn.hansen@yahoo.no   \n",
              "5 14700      +420 2 4172 5555   +420 2 4172 5555   frantisekw@jetbrains.com\n",
              "6 14300      +420 2 4177 0449   NA                 hholy@gmail.com         \n",
              "  SupportRepId\n",
              "1 3           \n",
              "2 5           \n",
              "3 3           \n",
              "4 4           \n",
              "5 4           \n",
              "6 5           "
            ]
          },
          "metadata": {}
        }
      ]
    },
    {
      "cell_type": "code",
      "source": [
        "### solução ideal\n",
        "dbGetQuery(conn, \"SELECT COUNT(*) AS n FROM customers\")"
      ],
      "metadata": {
        "colab": {
          "base_uri": "https://localhost:8080/",
          "height": 164
        },
        "id": "vYNsG0C9Ge0e",
        "outputId": "111f4276-ae33-4c9e-dfd5-a66816a7bfce"
      },
      "execution_count": 37,
      "outputs": [
        {
          "output_type": "display_data",
          "data": {
            "text/html": [
              "<table class=\"dataframe\">\n",
              "<caption>A data.frame: 1 × 1</caption>\n",
              "<thead>\n",
              "\t<tr><th scope=col>n</th></tr>\n",
              "\t<tr><th scope=col>&lt;int&gt;</th></tr>\n",
              "</thead>\n",
              "<tbody>\n",
              "\t<tr><td>59</td></tr>\n",
              "</tbody>\n",
              "</table>\n"
            ],
            "text/markdown": "\nA data.frame: 1 × 1\n\n| n &lt;int&gt; |\n|---|\n| 59 |\n\n",
            "text/latex": "A data.frame: 1 × 1\n\\begin{tabular}{l}\n n\\\\\n <int>\\\\\n\\hline\n\t 59\\\\\n\\end{tabular}\n",
            "text/plain": [
              "  n \n",
              "1 59"
            ]
          },
          "metadata": {}
        }
      ]
    },
    {
      "cell_type": "markdown",
      "source": [
        "#Questão 6"
      ],
      "metadata": {
        "id": "t4kCAWWmFi65"
      }
    },
    {
      "cell_type": "code",
      "source": [
        "dif_country = dbGetQuery(conn, \"SELECT COUNT(DISTINCT Country)\n",
        " AS unique_country FROM customers\")"
      ],
      "metadata": {
        "colab": {
          "base_uri": "https://localhost:8080/",
          "height": 129
        },
        "id": "K5z0NgFsFlEp",
        "outputId": "c75d7dac-70ee-496b-c9ad-742c6285df38"
      },
      "execution_count": 40,
      "outputs": [
        {
          "output_type": "display_data",
          "data": {
            "text/html": [
              "<table class=\"dataframe\">\n",
              "<caption>A data.frame: 1 × 1</caption>\n",
              "<thead>\n",
              "\t<tr><th scope=col>unique_country</th></tr>\n",
              "\t<tr><th scope=col>&lt;int&gt;</th></tr>\n",
              "</thead>\n",
              "<tbody>\n",
              "\t<tr><td>24</td></tr>\n",
              "</tbody>\n",
              "</table>\n"
            ],
            "text/markdown": "\nA data.frame: 1 × 1\n\n| unique_country &lt;int&gt; |\n|---|\n| 24 |\n\n",
            "text/latex": "A data.frame: 1 × 1\n\\begin{tabular}{l}\n unique\\_country\\\\\n <int>\\\\\n\\hline\n\t 24\\\\\n\\end{tabular}\n",
            "text/plain": [
              "  unique_country\n",
              "1 24            "
            ]
          },
          "metadata": {}
        }
      ]
    },
    {
      "cell_type": "markdown",
      "source": [
        "#Questão 7"
      ],
      "metadata": {
        "id": "WPvfRBS5MiPn"
      }
    },
    {
      "cell_type": "code",
      "source": [
        "dbGetQuery(conn, \"SELECT Country As País, COUNT(CustomerID) as n\n",
        "FROM customers\n",
        "GROUP BY Country\n",
        "ORDER BY n DESC\")"
      ],
      "metadata": {
        "colab": {
          "base_uri": "https://localhost:8080/",
          "height": 851
        },
        "id": "G5ZV24oNMklu",
        "outputId": "a94eb035-ad40-4b86-a2e8-e6d9308965d3"
      },
      "execution_count": 43,
      "outputs": [
        {
          "output_type": "display_data",
          "data": {
            "text/html": [
              "<table class=\"dataframe\">\n",
              "<caption>A data.frame: 24 × 2</caption>\n",
              "<thead>\n",
              "\t<tr><th scope=col>País</th><th scope=col>n</th></tr>\n",
              "\t<tr><th scope=col>&lt;chr&gt;</th><th scope=col>&lt;int&gt;</th></tr>\n",
              "</thead>\n",
              "<tbody>\n",
              "\t<tr><td>USA           </td><td>13</td></tr>\n",
              "\t<tr><td>Canada        </td><td> 8</td></tr>\n",
              "\t<tr><td>France        </td><td> 5</td></tr>\n",
              "\t<tr><td>Brazil        </td><td> 5</td></tr>\n",
              "\t<tr><td>Germany       </td><td> 4</td></tr>\n",
              "\t<tr><td>United Kingdom</td><td> 3</td></tr>\n",
              "\t<tr><td>Portugal      </td><td> 2</td></tr>\n",
              "\t<tr><td>India         </td><td> 2</td></tr>\n",
              "\t<tr><td>Czech Republic</td><td> 2</td></tr>\n",
              "\t<tr><td>Sweden        </td><td> 1</td></tr>\n",
              "\t<tr><td>Spain         </td><td> 1</td></tr>\n",
              "\t<tr><td>Poland        </td><td> 1</td></tr>\n",
              "\t<tr><td>Norway        </td><td> 1</td></tr>\n",
              "\t<tr><td>Netherlands   </td><td> 1</td></tr>\n",
              "\t<tr><td>Italy         </td><td> 1</td></tr>\n",
              "\t<tr><td>Ireland       </td><td> 1</td></tr>\n",
              "\t<tr><td>Hungary       </td><td> 1</td></tr>\n",
              "\t<tr><td>Finland       </td><td> 1</td></tr>\n",
              "\t<tr><td>Denmark       </td><td> 1</td></tr>\n",
              "\t<tr><td>Chile         </td><td> 1</td></tr>\n",
              "\t<tr><td>Belgium       </td><td> 1</td></tr>\n",
              "\t<tr><td>Austria       </td><td> 1</td></tr>\n",
              "\t<tr><td>Australia     </td><td> 1</td></tr>\n",
              "\t<tr><td>Argentina     </td><td> 1</td></tr>\n",
              "</tbody>\n",
              "</table>\n"
            ],
            "text/markdown": "\nA data.frame: 24 × 2\n\n| País &lt;chr&gt; | n &lt;int&gt; |\n|---|---|\n| USA            | 13 |\n| Canada         |  8 |\n| France         |  5 |\n| Brazil         |  5 |\n| Germany        |  4 |\n| United Kingdom |  3 |\n| Portugal       |  2 |\n| India          |  2 |\n| Czech Republic |  2 |\n| Sweden         |  1 |\n| Spain          |  1 |\n| Poland         |  1 |\n| Norway         |  1 |\n| Netherlands    |  1 |\n| Italy          |  1 |\n| Ireland        |  1 |\n| Hungary        |  1 |\n| Finland        |  1 |\n| Denmark        |  1 |\n| Chile          |  1 |\n| Belgium        |  1 |\n| Austria        |  1 |\n| Australia      |  1 |\n| Argentina      |  1 |\n\n",
            "text/latex": "A data.frame: 24 × 2\n\\begin{tabular}{ll}\n País & n\\\\\n <chr> & <int>\\\\\n\\hline\n\t USA            & 13\\\\\n\t Canada         &  8\\\\\n\t France         &  5\\\\\n\t Brazil         &  5\\\\\n\t Germany        &  4\\\\\n\t United Kingdom &  3\\\\\n\t Portugal       &  2\\\\\n\t India          &  2\\\\\n\t Czech Republic &  2\\\\\n\t Sweden         &  1\\\\\n\t Spain          &  1\\\\\n\t Poland         &  1\\\\\n\t Norway         &  1\\\\\n\t Netherlands    &  1\\\\\n\t Italy          &  1\\\\\n\t Ireland        &  1\\\\\n\t Hungary        &  1\\\\\n\t Finland        &  1\\\\\n\t Denmark        &  1\\\\\n\t Chile          &  1\\\\\n\t Belgium        &  1\\\\\n\t Austria        &  1\\\\\n\t Australia      &  1\\\\\n\t Argentina      &  1\\\\\n\\end{tabular}\n",
            "text/plain": [
              "   País           n \n",
              "1  USA            13\n",
              "2  Canada          8\n",
              "3  France          5\n",
              "4  Brazil          5\n",
              "5  Germany         4\n",
              "6  United Kingdom  3\n",
              "7  Portugal        2\n",
              "8  India           2\n",
              "9  Czech Republic  2\n",
              "10 Sweden          1\n",
              "11 Spain           1\n",
              "12 Poland          1\n",
              "13 Norway          1\n",
              "14 Netherlands     1\n",
              "15 Italy           1\n",
              "16 Ireland         1\n",
              "17 Hungary         1\n",
              "18 Finland         1\n",
              "19 Denmark         1\n",
              "20 Chile           1\n",
              "21 Belgium         1\n",
              "22 Austria         1\n",
              "23 Australia       1\n",
              "24 Argentina       1"
            ]
          },
          "metadata": {}
        }
      ]
    },
    {
      "cell_type": "markdown",
      "source": [
        "#QUESTÃO 8"
      ],
      "metadata": {
        "id": "XtRzz_zkNLdM"
      }
    },
    {
      "cell_type": "code",
      "source": [
        "dbGetQuery(conn, \"SELECT Country As País, COUNT(CustomerID) as n\n",
        "FROM customers\n",
        "GROUP BY Country\n",
        "ORDER BY n DESC\n",
        "LIMIT 5\")"
      ],
      "metadata": {
        "colab": {
          "base_uri": "https://localhost:8080/",
          "height": 255
        },
        "id": "ipo7HSHaNPS0",
        "outputId": "030d5ed7-7228-40ee-fda1-02e8b778362b"
      },
      "execution_count": 45,
      "outputs": [
        {
          "output_type": "display_data",
          "data": {
            "text/html": [
              "<table class=\"dataframe\">\n",
              "<caption>A data.frame: 5 × 2</caption>\n",
              "<thead>\n",
              "\t<tr><th scope=col>País</th><th scope=col>n</th></tr>\n",
              "\t<tr><th scope=col>&lt;chr&gt;</th><th scope=col>&lt;int&gt;</th></tr>\n",
              "</thead>\n",
              "<tbody>\n",
              "\t<tr><td>USA    </td><td>13</td></tr>\n",
              "\t<tr><td>Canada </td><td> 8</td></tr>\n",
              "\t<tr><td>France </td><td> 5</td></tr>\n",
              "\t<tr><td>Brazil </td><td> 5</td></tr>\n",
              "\t<tr><td>Germany</td><td> 4</td></tr>\n",
              "</tbody>\n",
              "</table>\n"
            ],
            "text/markdown": "\nA data.frame: 5 × 2\n\n| País &lt;chr&gt; | n &lt;int&gt; |\n|---|---|\n| USA     | 13 |\n| Canada  |  8 |\n| France  |  5 |\n| Brazil  |  5 |\n| Germany |  4 |\n\n",
            "text/latex": "A data.frame: 5 × 2\n\\begin{tabular}{ll}\n País & n\\\\\n <chr> & <int>\\\\\n\\hline\n\t USA     & 13\\\\\n\t Canada  &  8\\\\\n\t France  &  5\\\\\n\t Brazil  &  5\\\\\n\t Germany &  4\\\\\n\\end{tabular}\n",
            "text/plain": [
              "  País    n \n",
              "1 USA     13\n",
              "2 Canada   8\n",
              "3 France   5\n",
              "4 Brazil   5\n",
              "5 Germany  4"
            ]
          },
          "metadata": {}
        }
      ]
    },
    {
      "cell_type": "markdown",
      "source": [
        "#Questão 9"
      ],
      "metadata": {
        "id": "KbP336h4PaDm"
      }
    },
    {
      "cell_type": "code",
      "source": [
        "dbGetQuery(conn, \"SELECT DISTINCT Country FROM customers\n",
        "WHERE LENGTH(Country) = 6\")"
      ],
      "metadata": {
        "colab": {
          "base_uri": "https://localhost:8080/",
          "height": 321
        },
        "id": "DwIfoiA9PcUn",
        "outputId": "b095ec0a-5dc0-468d-b847-871b8d7e6328"
      },
      "execution_count": 46,
      "outputs": [
        {
          "output_type": "display_data",
          "data": {
            "text/html": [
              "<table class=\"dataframe\">\n",
              "<caption>A data.frame: 6 × 1</caption>\n",
              "<thead>\n",
              "\t<tr><th scope=col>Country</th></tr>\n",
              "\t<tr><th scope=col>&lt;chr&gt;</th></tr>\n",
              "</thead>\n",
              "<tbody>\n",
              "\t<tr><td>Brazil</td></tr>\n",
              "\t<tr><td>Canada</td></tr>\n",
              "\t<tr><td>Norway</td></tr>\n",
              "\t<tr><td>France</td></tr>\n",
              "\t<tr><td>Poland</td></tr>\n",
              "\t<tr><td>Sweden</td></tr>\n",
              "</tbody>\n",
              "</table>\n"
            ],
            "text/markdown": "\nA data.frame: 6 × 1\n\n| Country &lt;chr&gt; |\n|---|\n| Brazil |\n| Canada |\n| Norway |\n| France |\n| Poland |\n| Sweden |\n\n",
            "text/latex": "A data.frame: 6 × 1\n\\begin{tabular}{l}\n Country\\\\\n <chr>\\\\\n\\hline\n\t Brazil\\\\\n\t Canada\\\\\n\t Norway\\\\\n\t France\\\\\n\t Poland\\\\\n\t Sweden\\\\\n\\end{tabular}\n",
            "text/plain": [
              "  Country\n",
              "1 Brazil \n",
              "2 Canada \n",
              "3 Norway \n",
              "4 France \n",
              "5 Poland \n",
              "6 Sweden "
            ]
          },
          "metadata": {}
        }
      ]
    },
    {
      "cell_type": "markdown",
      "source": [
        "#Questão 10"
      ],
      "metadata": {
        "id": "VajD1ed0QOd1"
      }
    },
    {
      "cell_type": "code",
      "source": [
        "dbGetQuery(conn, \"SELECT DISTINCT Name FROM tracks\n",
        "INNER JOIN invoice_items ON tracks.TrackId = invoice_items.TrackId\n",
        "INNER JOIN invoices ON invoices.InvoiceId = invoices.invoiceID\n",
        "INNER JOIN customers ON invoices.CustomerId = customers.CustomerId\n",
        "WHERE customers.Country = 'Brazil'\")"
      ],
      "metadata": {
        "colab": {
          "base_uri": "https://localhost:8080/",
          "height": 1000
        },
        "id": "pYuo5SZfQNtO",
        "outputId": "f11fde30-a442-46a5-f79b-1a67b2533712"
      },
      "execution_count": 53,
      "outputs": [
        {
          "output_type": "display_data",
          "data": {
            "text/html": [
              "<table class=\"dataframe\">\n",
              "<caption>A data.frame: 1888 × 1</caption>\n",
              "<thead>\n",
              "\t<tr><th scope=col>Name</th></tr>\n",
              "\t<tr><th scope=col>&lt;chr&gt;</th></tr>\n",
              "</thead>\n",
              "<tbody>\n",
              "\t<tr><td>For Those About To Rock (We Salute You)</td></tr>\n",
              "\t<tr><td>Balls to the Wall                      </td></tr>\n",
              "\t<tr><td>Fast As a Shark                        </td></tr>\n",
              "\t<tr><td>Restless and Wild                      </td></tr>\n",
              "\t<tr><td>Princess of the Dawn                   </td></tr>\n",
              "\t<tr><td>Put The Finger On You                  </td></tr>\n",
              "\t<tr><td>Inject The Venom                       </td></tr>\n",
              "\t<tr><td>Snowballed                             </td></tr>\n",
              "\t<tr><td>Evil Walks                             </td></tr>\n",
              "\t<tr><td>Breaking The Rules                     </td></tr>\n",
              "\t<tr><td>Night Of The Long Knives               </td></tr>\n",
              "\t<tr><td>Spellbound                             </td></tr>\n",
              "\t<tr><td>Go Down                                </td></tr>\n",
              "\t<tr><td>Dog Eat Dog                            </td></tr>\n",
              "\t<tr><td>Problem Child                          </td></tr>\n",
              "\t<tr><td>Overdose                               </td></tr>\n",
              "\t<tr><td>Hell Ain't A Bad Place To Be           </td></tr>\n",
              "\t<tr><td>Love In An Elevator                    </td></tr>\n",
              "\t<tr><td>Rag Doll                               </td></tr>\n",
              "\t<tr><td>What It Takes                          </td></tr>\n",
              "\t<tr><td>Janie's Got A Gun                      </td></tr>\n",
              "\t<tr><td>Amazing                                </td></tr>\n",
              "\t<tr><td>Blind Man                              </td></tr>\n",
              "\t<tr><td>Deuces Are Wild                        </td></tr>\n",
              "\t<tr><td>Angel                                  </td></tr>\n",
              "\t<tr><td>Livin' On The Edge                     </td></tr>\n",
              "\t<tr><td>All I Really Want                      </td></tr>\n",
              "\t<tr><td>You Oughta Know                        </td></tr>\n",
              "\t<tr><td>Right Through You                      </td></tr>\n",
              "\t<tr><td>Forgiven                               </td></tr>\n",
              "\t<tr><td>⋮</td></tr>\n",
              "\t<tr><td>Back to Black                                                                                                 </td></tr>\n",
              "\t<tr><td>Tears Dry On Their Own                                                                                        </td></tr>\n",
              "\t<tr><td>Wake Up Alone                                                                                                 </td></tr>\n",
              "\t<tr><td>Some Unholy War                                                                                               </td></tr>\n",
              "\t<tr><td>He Can Only Hold Her                                                                                          </td></tr>\n",
              "\t<tr><td>You Know I'm No Good (feat. Ghostface Killah)                                                                 </td></tr>\n",
              "\t<tr><td>Rehab (Hot Chip Remix)                                                                                        </td></tr>\n",
              "\t<tr><td>Intro / Stronger Than Me                                                                                      </td></tr>\n",
              "\t<tr><td>F**k Me Pumps                                                                                                 </td></tr>\n",
              "\t<tr><td>I Heard Love Is Blind                                                                                         </td></tr>\n",
              "\t<tr><td>Take the Box                                                                                                  </td></tr>\n",
              "\t<tr><td>Help Yourself                                                                                                 </td></tr>\n",
              "\t<tr><td>Amy Amy Amy (Outro)                                                                                           </td></tr>\n",
              "\t<tr><td>Slowness                                                                                                      </td></tr>\n",
              "\t<tr><td>Prometheus Overture, Op. 43                                                                                   </td></tr>\n",
              "\t<tr><td>Sonata for Solo Violin: IV: Presto                                                                            </td></tr>\n",
              "\t<tr><td>A Midsummer Night's Dream, Op.61 Incidental Music: No.7 Notturno                                              </td></tr>\n",
              "\t<tr><td><span style=white-space:pre-wrap>Suite No. 3 in D, BWV 1068: III. Gavotte I &amp; II                                                               </span></td></tr>\n",
              "\t<tr><td>Adios nonino                                                                                                  </td></tr>\n",
              "\t<tr><td>Symphony No. 3 Op. 36 for Orchestra and Soprano \"Symfonia Piesni Zalosnych\" \\ Lento E Largo - Tranquillissimo</td></tr>\n",
              "\t<tr><td>Act IV, Symphony                                                                                              </td></tr>\n",
              "\t<tr><td>Music for the Funeral of Queen Mary: VI. \"Thou Knowest, Lord, the Secrets of Our Hearts\"                      </td></tr>\n",
              "\t<tr><td>Symphony No. 2: III. Allegro vivace                                                                           </td></tr>\n",
              "\t<tr><td>Partita in E Major, BWV 1006A: I. Prelude                                                                     </td></tr>\n",
              "\t<tr><td>Sing Joyfully                                                                                                 </td></tr>\n",
              "\t<tr><td>Metopes, Op. 29: Calypso                                                                                      </td></tr>\n",
              "\t<tr><td>Symphony No. 2, Op. 16 -  \"The Four Temperaments\": II. Allegro Comodo e Flemmatico                            </td></tr>\n",
              "\t<tr><td>Étude 1, In C Major - Preludio (Presto) - Liszt                                                               </td></tr>\n",
              "\t<tr><td>Pini Di Roma (Pinien Von Rom) \\ I Pini Della Via Appia                                                       </td></tr>\n",
              "\t<tr><td>String Quartet No. 12 in C Minor, D. 703 \"Quartettsatz\": II. Andante - Allegro assai                          </td></tr>\n",
              "</tbody>\n",
              "</table>\n"
            ],
            "text/markdown": "\nA data.frame: 1888 × 1\n\n| Name &lt;chr&gt; |\n|---|\n| For Those About To Rock (We Salute You) |\n| Balls to the Wall                       |\n| Fast As a Shark                         |\n| Restless and Wild                       |\n| Princess of the Dawn                    |\n| Put The Finger On You                   |\n| Inject The Venom                        |\n| Snowballed                              |\n| Evil Walks                              |\n| Breaking The Rules                      |\n| Night Of The Long Knives                |\n| Spellbound                              |\n| Go Down                                 |\n| Dog Eat Dog                             |\n| Problem Child                           |\n| Overdose                                |\n| Hell Ain't A Bad Place To Be            |\n| Love In An Elevator                     |\n| Rag Doll                                |\n| What It Takes                           |\n| Janie's Got A Gun                       |\n| Amazing                                 |\n| Blind Man                               |\n| Deuces Are Wild                         |\n| Angel                                   |\n| Livin' On The Edge                      |\n| All I Really Want                       |\n| You Oughta Know                         |\n| Right Through You                       |\n| Forgiven                                |\n| ⋮ |\n| Back to Black                                                                                                  |\n| Tears Dry On Their Own                                                                                         |\n| Wake Up Alone                                                                                                  |\n| Some Unholy War                                                                                                |\n| He Can Only Hold Her                                                                                           |\n| You Know I'm No Good (feat. Ghostface Killah)                                                                  |\n| Rehab (Hot Chip Remix)                                                                                         |\n| Intro / Stronger Than Me                                                                                       |\n| F**k Me Pumps                                                                                                  |\n| I Heard Love Is Blind                                                                                          |\n| Take the Box                                                                                                   |\n| Help Yourself                                                                                                  |\n| Amy Amy Amy (Outro)                                                                                            |\n| Slowness                                                                                                       |\n| Prometheus Overture, Op. 43                                                                                    |\n| Sonata for Solo Violin: IV: Presto                                                                             |\n| A Midsummer Night's Dream, Op.61 Incidental Music: No.7 Notturno                                               |\n| Suite No. 3 in D, BWV 1068: III. Gavotte I &amp; II                                                                |\n| Adios nonino                                                                                                   |\n| Symphony No. 3 Op. 36 for Orchestra and Soprano \"Symfonia Piesni Zalosnych\" \\ Lento E Largo - Tranquillissimo |\n| Act IV, Symphony                                                                                               |\n| Music for the Funeral of Queen Mary: VI. \"Thou Knowest, Lord, the Secrets of Our Hearts\"                       |\n| Symphony No. 2: III. Allegro vivace                                                                            |\n| Partita in E Major, BWV 1006A: I. Prelude                                                                      |\n| Sing Joyfully                                                                                                  |\n| Metopes, Op. 29: Calypso                                                                                       |\n| Symphony No. 2, Op. 16 -  \"The Four Temperaments\": II. Allegro Comodo e Flemmatico                             |\n| Étude 1, In C Major - Preludio (Presto) - Liszt                                                                |\n| Pini Di Roma (Pinien Von Rom) \\ I Pini Della Via Appia                                                        |\n| String Quartet No. 12 in C Minor, D. 703 \"Quartettsatz\": II. Andante - Allegro assai                           |\n\n",
            "text/latex": "A data.frame: 1888 × 1\n\\begin{tabular}{l}\n Name\\\\\n <chr>\\\\\n\\hline\n\t For Those About To Rock (We Salute You)\\\\\n\t Balls to the Wall                      \\\\\n\t Fast As a Shark                        \\\\\n\t Restless and Wild                      \\\\\n\t Princess of the Dawn                   \\\\\n\t Put The Finger On You                  \\\\\n\t Inject The Venom                       \\\\\n\t Snowballed                             \\\\\n\t Evil Walks                             \\\\\n\t Breaking The Rules                     \\\\\n\t Night Of The Long Knives               \\\\\n\t Spellbound                             \\\\\n\t Go Down                                \\\\\n\t Dog Eat Dog                            \\\\\n\t Problem Child                          \\\\\n\t Overdose                               \\\\\n\t Hell Ain't A Bad Place To Be           \\\\\n\t Love In An Elevator                    \\\\\n\t Rag Doll                               \\\\\n\t What It Takes                          \\\\\n\t Janie's Got A Gun                      \\\\\n\t Amazing                                \\\\\n\t Blind Man                              \\\\\n\t Deuces Are Wild                        \\\\\n\t Angel                                  \\\\\n\t Livin' On The Edge                     \\\\\n\t All I Really Want                      \\\\\n\t You Oughta Know                        \\\\\n\t Right Through You                      \\\\\n\t Forgiven                               \\\\\n\t ⋮\\\\\n\t Back to Black                                                                                                 \\\\\n\t Tears Dry On Their Own                                                                                        \\\\\n\t Wake Up Alone                                                                                                 \\\\\n\t Some Unholy War                                                                                               \\\\\n\t He Can Only Hold Her                                                                                          \\\\\n\t You Know I'm No Good (feat. Ghostface Killah)                                                                 \\\\\n\t Rehab (Hot Chip Remix)                                                                                        \\\\\n\t Intro / Stronger Than Me                                                                                      \\\\\n\t F**k Me Pumps                                                                                                 \\\\\n\t I Heard Love Is Blind                                                                                         \\\\\n\t Take the Box                                                                                                  \\\\\n\t Help Yourself                                                                                                 \\\\\n\t Amy Amy Amy (Outro)                                                                                           \\\\\n\t Slowness                                                                                                      \\\\\n\t Prometheus Overture, Op. 43                                                                                   \\\\\n\t Sonata for Solo Violin: IV: Presto                                                                            \\\\\n\t A Midsummer Night's Dream, Op.61 Incidental Music: No.7 Notturno                                              \\\\\n\t Suite No. 3 in D, BWV 1068: III. Gavotte I \\& II                                                               \\\\\n\t Adios nonino                                                                                                  \\\\\n\t Symphony No. 3 Op. 36 for Orchestra and Soprano \"Symfonia Piesni Zalosnych\" \\textbackslash{} Lento E Largo - Tranquillissimo\\\\\n\t Act IV, Symphony                                                                                              \\\\\n\t Music for the Funeral of Queen Mary: VI. \"Thou Knowest, Lord, the Secrets of Our Hearts\"                      \\\\\n\t Symphony No. 2: III. Allegro vivace                                                                           \\\\\n\t Partita in E Major, BWV 1006A: I. Prelude                                                                     \\\\\n\t Sing Joyfully                                                                                                 \\\\\n\t Metopes, Op. 29: Calypso                                                                                      \\\\\n\t Symphony No. 2, Op. 16 -  \"The Four Temperaments\": II. Allegro Comodo e Flemmatico                            \\\\\n\t Étude 1, In C Major - Preludio (Presto) - Liszt                                                               \\\\\n\t Pini Di Roma (Pinien Von Rom) \\textbackslash{} I Pini Della Via Appia                                                       \\\\\n\t String Quartet No. 12 in C Minor, D. 703 \"Quartettsatz\": II. Andante - Allegro assai                          \\\\\n\\end{tabular}\n",
            "text/plain": [
              "     Name                                                                                                          \n",
              "1    For Those About To Rock (We Salute You)                                                                       \n",
              "2    Balls to the Wall                                                                                             \n",
              "3    Fast As a Shark                                                                                               \n",
              "4    Restless and Wild                                                                                             \n",
              "5    Princess of the Dawn                                                                                          \n",
              "6    Put The Finger On You                                                                                         \n",
              "7    Inject The Venom                                                                                              \n",
              "8    Snowballed                                                                                                    \n",
              "9    Evil Walks                                                                                                    \n",
              "10   Breaking The Rules                                                                                            \n",
              "11   Night Of The Long Knives                                                                                      \n",
              "12   Spellbound                                                                                                    \n",
              "13   Go Down                                                                                                       \n",
              "14   Dog Eat Dog                                                                                                   \n",
              "15   Problem Child                                                                                                 \n",
              "16   Overdose                                                                                                      \n",
              "17   Hell Ain't A Bad Place To Be                                                                                  \n",
              "18   Love In An Elevator                                                                                           \n",
              "19   Rag Doll                                                                                                      \n",
              "20   What It Takes                                                                                                 \n",
              "21   Janie's Got A Gun                                                                                             \n",
              "22   Amazing                                                                                                       \n",
              "23   Blind Man                                                                                                     \n",
              "24   Deuces Are Wild                                                                                               \n",
              "25   Angel                                                                                                         \n",
              "26   Livin' On The Edge                                                                                            \n",
              "27   All I Really Want                                                                                             \n",
              "28   You Oughta Know                                                                                               \n",
              "29   Right Through You                                                                                             \n",
              "30   Forgiven                                                                                                      \n",
              "⋮    ⋮                                                                                                             \n",
              "1859 Back to Black                                                                                                 \n",
              "1860 Tears Dry On Their Own                                                                                        \n",
              "1861 Wake Up Alone                                                                                                 \n",
              "1862 Some Unholy War                                                                                               \n",
              "1863 He Can Only Hold Her                                                                                          \n",
              "1864 You Know I'm No Good (feat. Ghostface Killah)                                                                 \n",
              "1865 Rehab (Hot Chip Remix)                                                                                        \n",
              "1866 Intro / Stronger Than Me                                                                                      \n",
              "1867 F**k Me Pumps                                                                                                 \n",
              "1868 I Heard Love Is Blind                                                                                         \n",
              "1869 Take the Box                                                                                                  \n",
              "1870 Help Yourself                                                                                                 \n",
              "1871 Amy Amy Amy (Outro)                                                                                           \n",
              "1872 Slowness                                                                                                      \n",
              "1873 Prometheus Overture, Op. 43                                                                                   \n",
              "1874 Sonata for Solo Violin: IV: Presto                                                                            \n",
              "1875 A Midsummer Night's Dream, Op.61 Incidental Music: No.7 Notturno                                              \n",
              "1876 Suite No. 3 in D, BWV 1068: III. Gavotte I & II                                                               \n",
              "1877 Adios nonino                                                                                                  \n",
              "1878 Symphony No. 3 Op. 36 for Orchestra and Soprano \"Symfonia Piesni Zalosnych\" \\\\ Lento E Largo - Tranquillissimo\n",
              "1879 Act IV, Symphony                                                                                              \n",
              "1880 Music for the Funeral of Queen Mary: VI. \"Thou Knowest, Lord, the Secrets of Our Hearts\"                      \n",
              "1881 Symphony No. 2: III. Allegro vivace                                                                           \n",
              "1882 Partita in E Major, BWV 1006A: I. Prelude                                                                     \n",
              "1883 Sing Joyfully                                                                                                 \n",
              "1884 Metopes, Op. 29: Calypso                                                                                      \n",
              "1885 Symphony No. 2, Op. 16 -  \"The Four Temperaments\": II. Allegro Comodo e Flemmatico                            \n",
              "1886 Étude 1, In C Major - Preludio (Presto) - Liszt                                                               \n",
              "1887 Pini Di Roma (Pinien Von Rom) \\\\ I Pini Della Via Appia                                                       \n",
              "1888 String Quartet No. 12 in C Minor, D. 703 \"Quartettsatz\": II. Andante - Allegro assai                          "
            ]
          },
          "metadata": {}
        }
      ]
    },
    {
      "cell_type": "markdown",
      "source": [
        "#Questão 11"
      ],
      "metadata": {
        "id": "CUvEPfAVVhxe"
      }
    },
    {
      "cell_type": "code",
      "source": [
        "dbDisconnect(conn)"
      ],
      "metadata": {
        "id": "zhI31Z4WVg_7"
      },
      "execution_count": 54,
      "outputs": []
    }
  ]
}